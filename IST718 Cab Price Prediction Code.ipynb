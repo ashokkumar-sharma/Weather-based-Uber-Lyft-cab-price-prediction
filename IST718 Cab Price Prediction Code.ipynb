{
 "cells": [
  {
   "cell_type": "code",
   "execution_count": 1,
   "metadata": {},
   "outputs": [],
   "source": [
    "# Load the necessary packages\n",
    "# create spark and sparkcontext objects\n",
    "import numpy as np\n",
    "import time\n",
    "import pyspark\n",
    "from pyspark.sql import SparkSession\n",
    "from pyspark import SparkContext\n",
    "from pyspark.ml import feature, regression, Pipeline, evaluation\n",
    "from pyspark.sql import functions as fn, Row\n",
    "from pyspark import sql\n",
    "from pyspark.sql import types as t\n",
    "from pyspark.mllib.stat import Statistics\n",
    "import matplotlib.pyplot as plt\n",
    "import pandas as pd\n",
    "import seaborn as sns\n",
    "from pyspark.sql.functions import isnull, when, count, col\n",
    "from pyspark.ml.feature import StringIndexer, OneHotEncoder, VectorAssembler\n",
    "from pyspark.ml.tuning import CrossValidator, ParamGridBuilder\n",
    "from pyspark.ml.regression import GBTRegressor\n",
    "\n",
    "spark = SparkSession.builder.getOrCreate()\n",
    "sc = spark.sparkContext"
   ]
  },
  {
   "cell_type": "markdown",
   "metadata": {},
   "source": [
    "Data Source: https://www.kaggle.com/ravi72munde/uber-lyft-cab-prices"
   ]
  },
  {
   "cell_type": "code",
   "execution_count": 2,
   "metadata": {},
   "outputs": [],
   "source": [
    "# import weather data\n",
    "weather_df = spark.read.option(\"header\", \"true\").csv(\"weather.csv\")"
   ]
  },
  {
   "cell_type": "code",
   "execution_count": 3,
   "metadata": {},
   "outputs": [
    {
     "name": "stdout",
     "output_type": "stream",
     "text": [
      "root\n",
      " |-- temp: string (nullable = true)\n",
      " |-- location: string (nullable = true)\n",
      " |-- clouds: string (nullable = true)\n",
      " |-- pressure: string (nullable = true)\n",
      " |-- rain: string (nullable = true)\n",
      " |-- time_stamp: string (nullable = true)\n",
      " |-- humidity: string (nullable = true)\n",
      " |-- wind: string (nullable = true)\n",
      "\n"
     ]
    }
   ],
   "source": [
    "weather_df.printSchema()"
   ]
  },
  {
   "cell_type": "code",
   "execution_count": 4,
   "metadata": {},
   "outputs": [],
   "source": [
    "# type casting all columns of weather dataframe\n",
    "weather_df = weather_df.withColumn(\"temp\", weather_df.temp.cast('float'))\n",
    "weather_df = weather_df.withColumn(\"clouds\", weather_df.clouds.cast('float'))\n",
    "weather_df = weather_df.withColumn(\"pressure\", weather_df.pressure.cast('float'))\n",
    "weather_df = weather_df.withColumn(\"rain\", weather_df.rain.cast('float'))\n",
    "weather_df = weather_df.withColumn(\"humidity\", weather_df.humidity.cast('float'))\n",
    "weather_df = weather_df.withColumn(\"wind\", weather_df.wind.cast('float'))\n",
    "weather_df = weather_df.withColumn(\"time_stamp_w\", fn.from_unixtime(weather_df.time_stamp.cast('bigint'), 'yyyy-MM-dd HH:mm:ss'))\n",
    "weather_df = weather_df.drop(\"time_stamp\")\n"
   ]
  },
  {
   "cell_type": "code",
   "execution_count": 5,
   "metadata": {},
   "outputs": [],
   "source": [
    "# import cab data\n",
    "cab_df = spark.read.option(\"header\", \"true\").csv(\"cab_rides.csv\")"
   ]
  },
  {
   "cell_type": "code",
   "execution_count": 6,
   "metadata": {},
   "outputs": [
    {
     "name": "stdout",
     "output_type": "stream",
     "text": [
      "root\n",
      " |-- distance: string (nullable = true)\n",
      " |-- cab_type: string (nullable = true)\n",
      " |-- time_stamp: string (nullable = true)\n",
      " |-- destination: string (nullable = true)\n",
      " |-- source: string (nullable = true)\n",
      " |-- price: string (nullable = true)\n",
      " |-- surge_multiplier: string (nullable = true)\n",
      " |-- id: string (nullable = true)\n",
      " |-- product_id: string (nullable = true)\n",
      " |-- name: string (nullable = true)\n",
      "\n"
     ]
    }
   ],
   "source": [
    "cab_df.printSchema()"
   ]
  },
  {
   "cell_type": "code",
   "execution_count": 7,
   "metadata": {},
   "outputs": [],
   "source": [
    "# type casting all columns of cab dataframe\n",
    "cab_df = cab_df.withColumn(\"distance\", cab_df.distance.cast('float'))\n",
    "cab_df = cab_df.withColumn(\"price\", cab_df.price.cast('float'))\n",
    "cab_df = cab_df.withColumn(\"surge_multiplier\", cab_df.surge_multiplier.cast('float'))\n",
    "cab_df = cab_df.withColumn(\"time_stamp\", fn.from_unixtime((cab_df.time_stamp.cast('bigint')/1000), 'yyyy-MM-dd HH:mm:ss'))"
   ]
  },
  {
   "cell_type": "markdown",
   "metadata": {},
   "source": [
    "**Splitting of the time stamp column into Date, Hours, Minutes, Seconds**"
   ]
  },
  {
   "cell_type": "code",
   "execution_count": 8,
   "metadata": {},
   "outputs": [],
   "source": [
    "split_col = fn.split(weather_df['time_stamp_w'], ' ')\n",
    "weather_df = weather_df.withColumn('Date_w', split_col.getItem(0))\n",
    "weather_df = weather_df.withColumn('Time_w', split_col.getItem(1))"
   ]
  },
  {
   "cell_type": "code",
   "execution_count": 9,
   "metadata": {},
   "outputs": [],
   "source": [
    "time_split_col = fn.split(weather_df['Time_w'],':')\n",
    "weather_df = weather_df.withColumn('Hour_w', time_split_col.getItem(0))\n",
    "weather_df = weather_df.withColumn('Minutes_w', time_split_col.getItem(1))\n",
    "weather_df = weather_df.withColumn('Seconds_w', time_split_col.getItem(2))"
   ]
  },
  {
   "cell_type": "code",
   "execution_count": 10,
   "metadata": {},
   "outputs": [],
   "source": [
    "split_col = fn.split(cab_df['time_stamp'], ' ')\n",
    "cab_df = cab_df.withColumn('Date', split_col.getItem(0))\n",
    "cab_df = cab_df.withColumn('Time', split_col.getItem(1))"
   ]
  },
  {
   "cell_type": "code",
   "execution_count": 11,
   "metadata": {},
   "outputs": [],
   "source": [
    "time_split_col = fn.split(cab_df['Time'],':')\n",
    "cab_df = cab_df.withColumn('Hour', time_split_col.getItem(0))\n",
    "cab_df = cab_df.withColumn('Minutes', time_split_col.getItem(1))\n",
    "cab_df = cab_df.withColumn('Seconds', time_split_col.getItem(2))"
   ]
  },
  {
   "cell_type": "markdown",
   "metadata": {},
   "source": [
    "**Merging the cab and weather data based on source, Date and Hour**"
   ]
  },
  {
   "cell_type": "code",
   "execution_count": 12,
   "metadata": {},
   "outputs": [],
   "source": [
    "cab_df = cab_df.withColumn('merged_key', \n",
    "                    fn.concat(fn.col('source'),fn.lit('-'), fn.col('Date'),fn.lit('-'), fn.col('Hour')))"
   ]
  },
  {
   "cell_type": "code",
   "execution_count": 13,
   "metadata": {},
   "outputs": [],
   "source": [
    "weather_df = weather_df.withColumn('merged_key', \n",
    "                    fn.concat(fn.col('location'),fn.lit('-'), fn.col('Date_w'),fn.lit('-'),fn.col('Hour_w')))"
   ]
  },
  {
   "cell_type": "code",
   "execution_count": 14,
   "metadata": {},
   "outputs": [],
   "source": [
    "weather_df = weather_df.\\\n",
    "    groupBy('merged_key').\\\n",
    "    agg(fn.avg('temp').alias('temp'), fn.avg('clouds').alias('clouds'), fn.avg('pressure').alias('pressure'), fn.avg('rain').alias('rain'), fn.avg('humidity').alias('humidity'), fn.avg('wind').alias('wind'))"
   ]
  },
  {
   "cell_type": "code",
   "execution_count": 15,
   "metadata": {},
   "outputs": [],
   "source": [
    "merged_df = cab_df.join(weather_df, on='merged_key')"
   ]
  },
  {
   "cell_type": "code",
   "execution_count": 16,
   "metadata": {
    "scrolled": true
   },
   "outputs": [
    {
     "data": {
      "text/plain": [
       "690107"
      ]
     },
     "execution_count": 16,
     "metadata": {},
     "output_type": "execute_result"
    }
   ],
   "source": [
    "# final merged dataframe\n",
    "merged_df.count()"
   ]
  },
  {
   "cell_type": "markdown",
   "metadata": {},
   "source": [
    "**Dropping Unwanted Columns**"
   ]
  },
  {
   "cell_type": "code",
   "execution_count": 17,
   "metadata": {},
   "outputs": [],
   "source": [
    "merged_df = merged_df.drop('Minutes_w')\n",
    "merged_df = merged_df.drop('Seconds_w')\n",
    "merged_df = merged_df.drop('Minutes')\n",
    "merged_df = merged_df.drop('Seconds')"
   ]
  },
  {
   "cell_type": "markdown",
   "metadata": {},
   "source": [
    "**Checking for Null Values**"
   ]
  },
  {
   "cell_type": "code",
   "execution_count": 18,
   "metadata": {},
   "outputs": [
    {
     "name": "stdout",
     "output_type": "stream",
     "text": [
      "+----------+--------+--------+----------+-----------+------+-----+----------------+---+----------+----+----+----+----+----+------+--------+------+--------+----+\n",
      "|merged_key|distance|cab_type|time_stamp|destination|source|price|surge_multiplier| id|product_id|name|Date|Time|Hour|temp|clouds|pressure|  rain|humidity|wind|\n",
      "+----------+--------+--------+----------+-----------+------+-----+----------------+---+----------+----+----+----+----+----+------+--------+------+--------+----+\n",
      "|         0|       0|       0|         0|          0|     0|54865|               0|  0|         0|   0|   0|   0|   0|   0|     0|       0|571430|       0|   0|\n",
      "+----------+--------+--------+----------+-----------+------+-----+----------------+---+----------+----+----+----+----+----+------+--------+------+--------+----+\n",
      "\n"
     ]
    }
   ],
   "source": [
    "from pyspark.sql.functions import isnull, when, count, col\n",
    "\n",
    "merged_df.select([count(when(isnull(c), c)).alias(c) for c in merged_df.columns]).show()"
   ]
  },
  {
   "cell_type": "code",
   "execution_count": 19,
   "metadata": {},
   "outputs": [
    {
     "data": {
      "text/plain": [
       "54865"
      ]
     },
     "execution_count": 19,
     "metadata": {},
     "output_type": "execute_result"
    }
   ],
   "source": [
    "merged_df.select(\"price\",\"name\").where(fn.col('name')=='Taxi').count()"
   ]
  },
  {
   "cell_type": "markdown",
   "metadata": {},
   "source": [
    "**Removing rows with Taxi as cab name since thwy have price (dependent) value as 0**"
   ]
  },
  {
   "cell_type": "code",
   "execution_count": 20,
   "metadata": {},
   "outputs": [],
   "source": [
    "merged_df = merged_df.select(fn.col(\"*\")).filter(fn.col('name')!='Taxi')"
   ]
  },
  {
   "cell_type": "markdown",
   "metadata": {},
   "source": [
    "**Replacing Null values of rain column with '0' indicating 0 inches of rain**"
   ]
  },
  {
   "cell_type": "code",
   "execution_count": 21,
   "metadata": {},
   "outputs": [],
   "source": [
    "merged_df = merged_df.fillna(0,subset=['rain'])"
   ]
  },
  {
   "cell_type": "code",
   "execution_count": 22,
   "metadata": {},
   "outputs": [],
   "source": [
    "merged_df = merged_df.withColumn(\"Hour\", merged_df.Hour.cast('string'))\n",
    "merged_df = merged_df.withColumn(\"Hour_w\", merged_df.Hour.cast('string'))\n",
    "merged_df = merged_df.withColumn(\"Date\",merged_df['Date'].cast(t.DateType()))\n",
    "merged_df = merged_df.withColumn('DayOfTheWeek', fn.date_format('Date', 'u'))\n",
    "merged_df = merged_df.withColumn(\"DayOfTheWeek\", merged_df.DayOfTheWeek.cast('string'))\n",
    "merged_df = merged_df.withColumn(\"temp\", merged_df.temp.cast('float'))\n",
    "merged_df = merged_df.withColumn(\"clouds\", merged_df.clouds.cast('float'))\n",
    "merged_df = merged_df.withColumn(\"pressure\", merged_df.pressure.cast('float'))\n",
    "merged_df = merged_df.withColumn(\"rain\", merged_df.rain.cast('float'))\n",
    "merged_df = merged_df.withColumn(\"humidity\", merged_df.humidity.cast('float'))\n",
    "merged_df = merged_df.withColumn(\"wind\", merged_df.wind.cast('float'))\n",
    "merged_df=merged_df.drop('Hour_w')\n",
    "merged_df=merged_df.drop('Date_w')"
   ]
  },
  {
   "cell_type": "code",
   "execution_count": 23,
   "metadata": {},
   "outputs": [],
   "source": [
    "training_df, validation_df, testing_df = merged_df.randomSplit([0.6, 0.3, 0.1], seed=0)"
   ]
  },
  {
   "cell_type": "markdown",
   "metadata": {},
   "source": [
    "**Evaluator: Root Mean Square Error**"
   ]
  },
  {
   "cell_type": "code",
   "execution_count": 24,
   "metadata": {},
   "outputs": [],
   "source": [
    "evaluator = evaluation.RegressionEvaluator(labelCol='price', metricName='rmse')"
   ]
  },
  {
   "cell_type": "markdown",
   "metadata": {},
   "source": [
    "**Codifying the data**"
   ]
  },
  {
   "cell_type": "markdown",
   "metadata": {},
   "source": [
    "**Classic Linear Regression**"
   ]
  },
  {
   "cell_type": "code",
   "execution_count": 73,
   "metadata": {},
   "outputs": [],
   "source": [
    "classic_lr = Pipeline(stages=[feature.VectorAssembler(inputCols=['distance','surge_multiplier','temp','clouds','pressure','rain','humidity','wind'],\n",
    "                                                     outputCol='features'), regression.LinearRegression(labelCol='price', featuresCol='features')]).fit(training_df)"
   ]
  },
  {
   "cell_type": "code",
   "execution_count": 74,
   "metadata": {},
   "outputs": [
    {
     "data": {
      "text/plain": [
       "8.468606619844305"
      ]
     },
     "execution_count": 74,
     "metadata": {},
     "output_type": "execute_result"
    }
   ],
   "source": [
    "classic_rmse = evaluator.evaluate(classic_lr.transform(validation_df))\n",
    "classic_rmse"
   ]
  },
  {
   "cell_type": "markdown",
   "metadata": {},
   "source": [
    "**Linear Regression with all the features - cab + weather**"
   ]
  },
  {
   "cell_type": "code",
   "execution_count": 76,
   "metadata": {},
   "outputs": [],
   "source": [
    "pipe_feat = Pipeline(stages=[StringIndexer(inputCol='name', outputCol=\"name_index\",stringOrderType='alphabetAsc'),\n",
    "                             StringIndexer(inputCol='DayOfTheWeek', outputCol=\"DayOfTheWeek_index\",stringOrderType='alphabetAsc'),\n",
    "                             StringIndexer(inputCol='Hour', outputCol=\"Hour_index\",stringOrderType='alphabetAsc'),\n",
    "                             StringIndexer(inputCol='cab_type', outputCol=\"cab_type_index\",stringOrderType='alphabetAsc'),\n",
    "                             StringIndexer(inputCol='destination', outputCol=\"destination_index\",stringOrderType='alphabetAsc'),\n",
    "                             OneHotEncoder(inputCol=\"name_index\", outputCol=\"name_feat\", dropLast=False),\n",
    "                             OneHotEncoder(inputCol=\"DayOfTheWeek_index\", outputCol=\"DayOfTheWeek_feat\", dropLast=False),\n",
    "                             OneHotEncoder(inputCol=\"Hour_index\", outputCol=\"Hour_feat\", dropLast=False),\n",
    "                             OneHotEncoder(inputCol=\"cab_type_index\", outputCol=\"cab_feat\", dropLast=False),\n",
    "                             OneHotEncoder(inputCol=\"destination_index\", outputCol=\"destination_feat\", dropLast=False),\n",
    "                             feature.VectorAssembler(inputCols=['distance','surge_multiplier','temp','clouds','pressure','rain','humidity','wind'],\n",
    "                                                     outputCol='numerical_features'),\n",
    "                             feature.StandardScaler(inputCol='numerical_features',outputCol='scaled_numerical_features'),\n",
    "                             feature.VectorAssembler(inputCols=[\"scaled_numerical_features\",\"name_feat\",\"DayOfTheWeek_feat\",\"Hour_feat\",\"cab_feat\",\"destination_feat\"],\n",
    "                                                     outputCol='final_features')])"
   ]
  },
  {
   "cell_type": "code",
   "execution_count": 77,
   "metadata": {},
   "outputs": [],
   "source": [
    "lr_1 = Pipeline(stages=[pipe_feat, regression.LinearRegression(labelCol='price', featuresCol='final_features')]).fit(training_df)"
   ]
  },
  {
   "cell_type": "code",
   "execution_count": 78,
   "metadata": {},
   "outputs": [],
   "source": [
    "lr_1_rmse = evaluator.evaluate(lr_1.transform(validation_df))"
   ]
  },
  {
   "cell_type": "code",
   "execution_count": 79,
   "metadata": {},
   "outputs": [
    {
     "data": {
      "text/plain": [
       "2.503849801978462"
      ]
     },
     "execution_count": 79,
     "metadata": {},
     "output_type": "execute_result"
    }
   ],
   "source": [
    "lr_1_rmse"
   ]
  },
  {
   "cell_type": "markdown",
   "metadata": {},
   "source": [
    "**Elastic net regularization with all the features - cab + weather**"
   ]
  },
  {
   "cell_type": "code",
   "execution_count": 32,
   "metadata": {},
   "outputs": [],
   "source": [
    "lr = regression.LinearRegression(labelCol='price', featuresCol='final_features',regParam=0.01,elasticNetParam=0.2)"
   ]
  },
  {
   "cell_type": "code",
   "execution_count": 33,
   "metadata": {},
   "outputs": [],
   "source": [
    "lr_2 = Pipeline(stages=[pipe_feat, lr]).fit(training_df)"
   ]
  },
  {
   "cell_type": "code",
   "execution_count": 34,
   "metadata": {},
   "outputs": [
    {
     "data": {
      "text/plain": [
       "2.5037402078448725"
      ]
     },
     "execution_count": 34,
     "metadata": {},
     "output_type": "execute_result"
    }
   ],
   "source": [
    "regularized_rmse = evaluator.evaluate(lr_2.transform(validation_df))\n",
    "regularized_rmse"
   ]
  },
  {
   "cell_type": "code",
   "execution_count": 35,
   "metadata": {
    "scrolled": true
   },
   "outputs": [
    {
     "data": {
      "text/plain": [
       "DenseVector([3.1655, 1.7561, 0.0, -0.0023, 0.0, 0.0, -0.0076, 0.0112, 4.8521, 14.6073, 0.8792, 6.1595, 15.4117, -7.3212, -1.6028, -10.1764, -6.8872, -5.8844, -0.0027, -5.8815, 0.0122, 0.0, 0.0, -0.0026, 0.0043, 0.0377, -0.0, 0.0, 0.0, 0.0215, -0.0153, 0.0, 0.0, 0.0, 0.0, -0.0017, 0.0, 0.0, 0.0365, 0.0413, -0.0126, -0.0111, -0.0229, 0.0, 0.0517, -0.0299, -0.0066, 0.0126, 0.0188, -0.0042, 0.0, 0.2853, -0.2853, -0.0375, -0.3181, 0.0504, -0.2856, 0.4062, 0.1005, -0.0301, 0.1648, 0.0207, -0.1008, 0.1795, -0.0869])"
      ]
     },
     "execution_count": 35,
     "metadata": {},
     "output_type": "execute_result"
    }
   ],
   "source": [
    "# weights of every variable for feature importance\n",
    "lr_2.stages[-1].coefficients"
   ]
  },
  {
   "cell_type": "markdown",
   "metadata": {},
   "source": [
    "**Grid Search: Regularization Parameters**"
   ]
  },
  {
   "cell_type": "code",
   "execution_count": 36,
   "metadata": {},
   "outputs": [],
   "source": [
    "lambda_par = 0.02\n",
    "alpha_par = 0.3\n",
    "reg_lr = regression.LinearRegression().\\\n",
    "        setLabelCol('price').\\\n",
    "        setFeaturesCol('final_features').\\\n",
    "        setRegParam(lambda_par).\\\n",
    "        setMaxIter(100).\\\n",
    "        setElasticNetParam(alpha_par)"
   ]
  },
  {
   "cell_type": "code",
   "execution_count": 37,
   "metadata": {},
   "outputs": [],
   "source": [
    "lr_3 = Pipeline(stages=[pipe_feat, reg_lr])"
   ]
  },
  {
   "cell_type": "code",
   "execution_count": 38,
   "metadata": {
    "scrolled": true
   },
   "outputs": [],
   "source": [
    "grid = ParamGridBuilder().\\\n",
    "    addGrid(reg_lr.regParam, [0.1, 0.01, 0.001]).\\\n",
    "    addGrid(reg_lr.elasticNetParam, [0.1, 0.2, 0.4]).\\\n",
    "    build()"
   ]
  },
  {
   "cell_type": "code",
   "execution_count": 39,
   "metadata": {},
   "outputs": [
    {
     "data": {
      "text/plain": [
       "[{Param(parent='LinearRegression_02dbe1766820', name='regParam', doc='regularization parameter (>= 0).'): 0.1,\n",
       "  Param(parent='LinearRegression_02dbe1766820', name='elasticNetParam', doc='the ElasticNet mixing parameter, in range [0, 1]. For alpha = 0, the penalty is an L2 penalty. For alpha = 1, it is an L1 penalty.'): 0.1},\n",
       " {Param(parent='LinearRegression_02dbe1766820', name='regParam', doc='regularization parameter (>= 0).'): 0.1,\n",
       "  Param(parent='LinearRegression_02dbe1766820', name='elasticNetParam', doc='the ElasticNet mixing parameter, in range [0, 1]. For alpha = 0, the penalty is an L2 penalty. For alpha = 1, it is an L1 penalty.'): 0.2},\n",
       " {Param(parent='LinearRegression_02dbe1766820', name='regParam', doc='regularization parameter (>= 0).'): 0.1,\n",
       "  Param(parent='LinearRegression_02dbe1766820', name='elasticNetParam', doc='the ElasticNet mixing parameter, in range [0, 1]. For alpha = 0, the penalty is an L2 penalty. For alpha = 1, it is an L1 penalty.'): 0.4},\n",
       " {Param(parent='LinearRegression_02dbe1766820', name='regParam', doc='regularization parameter (>= 0).'): 0.01,\n",
       "  Param(parent='LinearRegression_02dbe1766820', name='elasticNetParam', doc='the ElasticNet mixing parameter, in range [0, 1]. For alpha = 0, the penalty is an L2 penalty. For alpha = 1, it is an L1 penalty.'): 0.1},\n",
       " {Param(parent='LinearRegression_02dbe1766820', name='regParam', doc='regularization parameter (>= 0).'): 0.01,\n",
       "  Param(parent='LinearRegression_02dbe1766820', name='elasticNetParam', doc='the ElasticNet mixing parameter, in range [0, 1]. For alpha = 0, the penalty is an L2 penalty. For alpha = 1, it is an L1 penalty.'): 0.2},\n",
       " {Param(parent='LinearRegression_02dbe1766820', name='regParam', doc='regularization parameter (>= 0).'): 0.01,\n",
       "  Param(parent='LinearRegression_02dbe1766820', name='elasticNetParam', doc='the ElasticNet mixing parameter, in range [0, 1]. For alpha = 0, the penalty is an L2 penalty. For alpha = 1, it is an L1 penalty.'): 0.4},\n",
       " {Param(parent='LinearRegression_02dbe1766820', name='regParam', doc='regularization parameter (>= 0).'): 0.001,\n",
       "  Param(parent='LinearRegression_02dbe1766820', name='elasticNetParam', doc='the ElasticNet mixing parameter, in range [0, 1]. For alpha = 0, the penalty is an L2 penalty. For alpha = 1, it is an L1 penalty.'): 0.1},\n",
       " {Param(parent='LinearRegression_02dbe1766820', name='regParam', doc='regularization parameter (>= 0).'): 0.001,\n",
       "  Param(parent='LinearRegression_02dbe1766820', name='elasticNetParam', doc='the ElasticNet mixing parameter, in range [0, 1]. For alpha = 0, the penalty is an L2 penalty. For alpha = 1, it is an L1 penalty.'): 0.2},\n",
       " {Param(parent='LinearRegression_02dbe1766820', name='regParam', doc='regularization parameter (>= 0).'): 0.001,\n",
       "  Param(parent='LinearRegression_02dbe1766820', name='elasticNetParam', doc='the ElasticNet mixing parameter, in range [0, 1]. For alpha = 0, the penalty is an L2 penalty. For alpha = 1, it is an L1 penalty.'): 0.4}]"
      ]
     },
     "execution_count": 39,
     "metadata": {},
     "output_type": "execute_result"
    }
   ],
   "source": [
    "grid"
   ]
  },
  {
   "cell_type": "code",
   "execution_count": 40,
   "metadata": {},
   "outputs": [
    {
     "name": "stdout",
     "output_type": "stream",
     "text": [
      "Fitting model 1\n",
      "Fitting model 2\n",
      "Fitting model 3\n",
      "Fitting model 4\n",
      "Fitting model 5\n",
      "Fitting model 6\n",
      "Fitting model 7\n",
      "Fitting model 8\n",
      "Fitting model 9\n"
     ]
    }
   ],
   "source": [
    "all_models = []\n",
    "for j in range(len(grid)):\n",
    "    print(\"Fitting model {}\".format(j+1))\n",
    "    model = lr_3.fit(training_df, grid[j])\n",
    "    all_models.append(model)"
   ]
  },
  {
   "cell_type": "code",
   "execution_count": 41,
   "metadata": {},
   "outputs": [],
   "source": [
    "model1_rmse = evaluator.evaluate(all_models[0].transform(validation_df))"
   ]
  },
  {
   "cell_type": "code",
   "execution_count": 42,
   "metadata": {},
   "outputs": [
    {
     "data": {
      "text/plain": [
       "2.5060325930402683"
      ]
     },
     "execution_count": 42,
     "metadata": {},
     "output_type": "execute_result"
    }
   ],
   "source": [
    "model1_rmse"
   ]
  },
  {
   "cell_type": "code",
   "execution_count": 43,
   "metadata": {
    "scrolled": true
   },
   "outputs": [
    {
     "data": {
      "text/plain": [
       "DenseVector([3.1252, 1.7377, 0.0, 0.0, 0.0, 0.0, 0.0, 0.0, 4.7692, 14.4466, 1.3927, 6.6302, 15.8152, -6.6823, -1.0094, -9.5216, -6.8254, -5.8303, 0.0, -5.8277, 0.0, 0.0, 0.0, 0.0, 0.0, 0.0, 0.0, 0.0, 0.0, 0.0, 0.0, 0.0, 0.0, 0.0, 0.0, 0.0, 0.0, 0.0, 0.0, 0.0, 0.0, 0.0, 0.0, 0.0, 0.0179, 0.0, 0.0, 0.0, 0.0, 0.0, 0.0, 0.0, 0.0, -0.0213, -0.2961, 0.046, -0.2409, 0.3831, 0.0362, -0.0294, 0.1308, 0.0026, -0.1018, 0.135, -0.0697])"
      ]
     },
     "execution_count": 43,
     "metadata": {},
     "output_type": "execute_result"
    }
   ],
   "source": [
    "all_models[0].stages[-1].coefficients"
   ]
  },
  {
   "cell_type": "code",
   "execution_count": 44,
   "metadata": {},
   "outputs": [
    {
     "data": {
      "text/plain": [
       "{Param(parent='LinearRegression_02dbe1766820', name='regParam', doc='regularization parameter (>= 0).'): 0.1,\n",
       " Param(parent='LinearRegression_02dbe1766820', name='elasticNetParam', doc='the ElasticNet mixing parameter, in range [0, 1]. For alpha = 0, the penalty is an L2 penalty. For alpha = 1, it is an L1 penalty.'): 0.1}"
      ]
     },
     "execution_count": 44,
     "metadata": {},
     "output_type": "execute_result"
    }
   ],
   "source": [
    "grid[0]"
   ]
  },
  {
   "cell_type": "code",
   "execution_count": 45,
   "metadata": {},
   "outputs": [
    {
     "data": {
      "text/plain": [
       "2.507651569579436"
      ]
     },
     "execution_count": 45,
     "metadata": {},
     "output_type": "execute_result"
    }
   ],
   "source": [
    "model2_rmse = evaluator.evaluate(all_models[1].transform(validation_df))\n",
    "model2_rmse"
   ]
  },
  {
   "cell_type": "code",
   "execution_count": 46,
   "metadata": {},
   "outputs": [
    {
     "data": {
      "text/plain": [
       "2.51239044609687"
      ]
     },
     "execution_count": 46,
     "metadata": {},
     "output_type": "execute_result"
    }
   ],
   "source": [
    "model3_rmse = evaluator.evaluate(all_models[2].transform(validation_df))\n",
    "model3_rmse"
   ]
  },
  {
   "cell_type": "code",
   "execution_count": 47,
   "metadata": {},
   "outputs": [
    {
     "data": {
      "text/plain": [
       "2.5037837331412436"
      ]
     },
     "execution_count": 47,
     "metadata": {},
     "output_type": "execute_result"
    }
   ],
   "source": [
    "model4_rmse = evaluator.evaluate(all_models[3].transform(validation_df))\n",
    "model4_rmse"
   ]
  },
  {
   "cell_type": "code",
   "execution_count": 48,
   "metadata": {},
   "outputs": [
    {
     "data": {
      "text/plain": [
       "2.5037402078448725"
      ]
     },
     "execution_count": 48,
     "metadata": {},
     "output_type": "execute_result"
    }
   ],
   "source": [
    "model5_rmse = evaluator.evaluate(all_models[4].transform(validation_df))\n",
    "model5_rmse"
   ]
  },
  {
   "cell_type": "code",
   "execution_count": 49,
   "metadata": {},
   "outputs": [
    {
     "data": {
      "text/plain": [
       "2.503764443021414"
      ]
     },
     "execution_count": 49,
     "metadata": {},
     "output_type": "execute_result"
    }
   ],
   "source": [
    "model6_rmse = evaluator.evaluate(all_models[5].transform(validation_df))\n",
    "model6_rmse"
   ]
  },
  {
   "cell_type": "code",
   "execution_count": 50,
   "metadata": {},
   "outputs": [
    {
     "data": {
      "text/plain": [
       "2.5038378295922987"
      ]
     },
     "execution_count": 50,
     "metadata": {},
     "output_type": "execute_result"
    }
   ],
   "source": [
    "model7_rmse = evaluator.evaluate(all_models[6].transform(validation_df))\n",
    "model7_rmse"
   ]
  },
  {
   "cell_type": "code",
   "execution_count": 51,
   "metadata": {},
   "outputs": [
    {
     "data": {
      "text/plain": [
       "2.503829544239254"
      ]
     },
     "execution_count": 51,
     "metadata": {},
     "output_type": "execute_result"
    }
   ],
   "source": [
    "model8_rmse = evaluator.evaluate(all_models[7].transform(validation_df))\n",
    "model8_rmse"
   ]
  },
  {
   "cell_type": "code",
   "execution_count": 52,
   "metadata": {},
   "outputs": [
    {
     "data": {
      "text/plain": [
       "2.5038182508343136"
      ]
     },
     "execution_count": 52,
     "metadata": {},
     "output_type": "execute_result"
    }
   ],
   "source": [
    "model9_rmse = evaluator.evaluate(all_models[8].transform(validation_df))\n",
    "model9_rmse"
   ]
  },
  {
   "cell_type": "code",
   "execution_count": 53,
   "metadata": {},
   "outputs": [
    {
     "data": {
      "text/plain": [
       "DenseVector([3.1076, 1.7148, 0.0, 0.0, 0.0, 0.0, 0.0, 0.0, 4.7956, 14.5017, 1.4145, 6.6658, 15.8787, -6.4822, -0.7933, -9.3396, -6.6391, -5.6413, 0.0, -5.6382, 0.0, 0.0, 0.0, 0.0, 0.0, 0.0, 0.0, 0.0, 0.0, 0.0, 0.0, 0.0, 0.0, 0.0, 0.0, 0.0, 0.0, 0.0, 0.0, 0.0, 0.0, 0.0, 0.0, 0.0, 0.0, 0.0, 0.0, 0.0, 0.0, 0.0, 0.0, 0.0, 0.0, 0.0, -0.1919, 0.0, -0.1262, 0.2982, 0.0, 0.0, 0.0382, 0.0, -0.0065, 0.0386, 0.0])"
      ]
     },
     "execution_count": 53,
     "metadata": {},
     "output_type": "execute_result"
    }
   ],
   "source": [
    "# obtain the best parameters for elastic net regularization \n",
    "all_models[2].stages[-1].coefficients"
   ]
  },
  {
   "cell_type": "markdown",
   "metadata": {},
   "source": [
    "** **Note: elasticNetParam corresponds to α and regParam corresponds to λ**"
   ]
  },
  {
   "cell_type": "markdown",
   "metadata": {},
   "source": [
    "**Feature Selection using Elastic net Regularization with best parameters on entire dataset**"
   ]
  },
  {
   "cell_type": "code",
   "execution_count": 27,
   "metadata": {
    "scrolled": true
   },
   "outputs": [],
   "source": [
    "best_model_LR = Pipeline(stages=[pipe_feat, regression.LinearRegression(labelCol='price', featuresCol='final_features',regParam=0.1,elasticNetParam=0.2)]).fit(merged_df)"
   ]
  },
  {
   "cell_type": "code",
   "execution_count": 29,
   "metadata": {},
   "outputs": [],
   "source": [
    "feature_reg = best_model_LR.stages[0].stages[-3].getInputCols()\n",
    "for i in range(5):\n",
    "    for j in range(len(best_model_LR.stages[0].stages[i].labels)):\n",
    "        col = best_model_LR.stages[0].stages[i].getInputCol() + \"_\" + best_model_LR.stages[0].stages[i].labels[j]\n",
    "        #col = col.replace(\" \", \"_\")\n",
    "        feature_reg.append(col)"
   ]
  },
  {
   "cell_type": "code",
   "execution_count": 30,
   "metadata": {},
   "outputs": [],
   "source": [
    "# Creating a dataframe of features with their importances\n",
    "coeff_pd = pd.DataFrame(list(zip(feature_reg, best_model_LR.stages[-1].coefficients.toArray())),\n",
    "            columns = ['features', 'weights']).sort_values('weights', ascending = False)"
   ]
  },
  {
   "cell_type": "code",
   "execution_count": 31,
   "metadata": {},
   "outputs": [
    {
     "data": {
      "text/plain": [
       "features    65\n",
       "weights     65\n",
       "dtype: int64"
      ]
     },
     "execution_count": 31,
     "metadata": {},
     "output_type": "execute_result"
    }
   ],
   "source": [
    "coeff_pd.count()"
   ]
  },
  {
   "cell_type": "code",
   "execution_count": 32,
   "metadata": {
    "scrolled": true
   },
   "outputs": [
    {
     "data": {
      "text/html": [
       "<div>\n",
       "<style scoped>\n",
       "    .dataframe tbody tr th:only-of-type {\n",
       "        vertical-align: middle;\n",
       "    }\n",
       "\n",
       "    .dataframe tbody tr th {\n",
       "        vertical-align: top;\n",
       "    }\n",
       "\n",
       "    .dataframe thead th {\n",
       "        text-align: right;\n",
       "    }\n",
       "</style>\n",
       "<table border=\"1\" class=\"dataframe\">\n",
       "  <thead>\n",
       "    <tr style=\"text-align: right;\">\n",
       "      <th></th>\n",
       "      <th>features</th>\n",
       "      <th>weights</th>\n",
       "    </tr>\n",
       "  </thead>\n",
       "  <tbody>\n",
       "    <tr>\n",
       "      <th>12</th>\n",
       "      <td>name_Lux Black XL</td>\n",
       "      <td>15.802992</td>\n",
       "    </tr>\n",
       "    <tr>\n",
       "      <th>9</th>\n",
       "      <td>name_Black SUV</td>\n",
       "      <td>14.438882</td>\n",
       "    </tr>\n",
       "    <tr>\n",
       "      <th>11</th>\n",
       "      <td>name_Lux Black</td>\n",
       "      <td>6.614424</td>\n",
       "    </tr>\n",
       "    <tr>\n",
       "      <th>8</th>\n",
       "      <td>name_Black</td>\n",
       "      <td>4.750990</td>\n",
       "    </tr>\n",
       "    <tr>\n",
       "      <th>0</th>\n",
       "      <td>distance</td>\n",
       "      <td>3.125276</td>\n",
       "    </tr>\n",
       "    <tr>\n",
       "      <th>1</th>\n",
       "      <td>surge_multiplier</td>\n",
       "      <td>1.719672</td>\n",
       "    </tr>\n",
       "    <tr>\n",
       "      <th>10</th>\n",
       "      <td>name_Lux</td>\n",
       "      <td>1.364799</td>\n",
       "    </tr>\n",
       "    <tr>\n",
       "      <th>57</th>\n",
       "      <td>destination_Financial District</td>\n",
       "      <td>0.338748</td>\n",
       "    </tr>\n",
       "    <tr>\n",
       "      <th>63</th>\n",
       "      <td>destination_Theatre District</td>\n",
       "      <td>0.094743</td>\n",
       "    </tr>\n",
       "    <tr>\n",
       "      <th>60</th>\n",
       "      <td>destination_North Station</td>\n",
       "      <td>0.090324</td>\n",
       "    </tr>\n",
       "    <tr>\n",
       "      <th>55</th>\n",
       "      <td>destination_Boston University</td>\n",
       "      <td>0.006915</td>\n",
       "    </tr>\n",
       "    <tr>\n",
       "      <th>37</th>\n",
       "      <td>Hour_10</td>\n",
       "      <td>0.000000</td>\n",
       "    </tr>\n",
       "    <tr>\n",
       "      <th>36</th>\n",
       "      <td>Hour_09</td>\n",
       "      <td>0.000000</td>\n",
       "    </tr>\n",
       "    <tr>\n",
       "      <th>45</th>\n",
       "      <td>Hour_18</td>\n",
       "      <td>0.000000</td>\n",
       "    </tr>\n",
       "    <tr>\n",
       "      <th>38</th>\n",
       "      <td>Hour_11</td>\n",
       "      <td>0.000000</td>\n",
       "    </tr>\n",
       "    <tr>\n",
       "      <th>39</th>\n",
       "      <td>Hour_12</td>\n",
       "      <td>0.000000</td>\n",
       "    </tr>\n",
       "    <tr>\n",
       "      <th>40</th>\n",
       "      <td>Hour_13</td>\n",
       "      <td>0.000000</td>\n",
       "    </tr>\n",
       "    <tr>\n",
       "      <th>41</th>\n",
       "      <td>Hour_14</td>\n",
       "      <td>0.000000</td>\n",
       "    </tr>\n",
       "    <tr>\n",
       "      <th>42</th>\n",
       "      <td>Hour_15</td>\n",
       "      <td>0.000000</td>\n",
       "    </tr>\n",
       "    <tr>\n",
       "      <th>43</th>\n",
       "      <td>Hour_16</td>\n",
       "      <td>0.000000</td>\n",
       "    </tr>\n",
       "    <tr>\n",
       "      <th>44</th>\n",
       "      <td>Hour_17</td>\n",
       "      <td>0.000000</td>\n",
       "    </tr>\n",
       "    <tr>\n",
       "      <th>50</th>\n",
       "      <td>Hour_23</td>\n",
       "      <td>0.000000</td>\n",
       "    </tr>\n",
       "    <tr>\n",
       "      <th>46</th>\n",
       "      <td>Hour_19</td>\n",
       "      <td>0.000000</td>\n",
       "    </tr>\n",
       "    <tr>\n",
       "      <th>47</th>\n",
       "      <td>Hour_20</td>\n",
       "      <td>0.000000</td>\n",
       "    </tr>\n",
       "    <tr>\n",
       "      <th>48</th>\n",
       "      <td>Hour_21</td>\n",
       "      <td>0.000000</td>\n",
       "    </tr>\n",
       "    <tr>\n",
       "      <th>49</th>\n",
       "      <td>Hour_22</td>\n",
       "      <td>0.000000</td>\n",
       "    </tr>\n",
       "    <tr>\n",
       "      <th>34</th>\n",
       "      <td>Hour_07</td>\n",
       "      <td>0.000000</td>\n",
       "    </tr>\n",
       "    <tr>\n",
       "      <th>51</th>\n",
       "      <td>cab_type_Lyft</td>\n",
       "      <td>0.000000</td>\n",
       "    </tr>\n",
       "    <tr>\n",
       "      <th>52</th>\n",
       "      <td>cab_type_Uber</td>\n",
       "      <td>0.000000</td>\n",
       "    </tr>\n",
       "    <tr>\n",
       "      <th>53</th>\n",
       "      <td>destination_Back Bay</td>\n",
       "      <td>0.000000</td>\n",
       "    </tr>\n",
       "    <tr>\n",
       "      <th>...</th>\n",
       "      <td>...</td>\n",
       "      <td>...</td>\n",
       "    </tr>\n",
       "    <tr>\n",
       "      <th>33</th>\n",
       "      <td>Hour_06</td>\n",
       "      <td>0.000000</td>\n",
       "    </tr>\n",
       "    <tr>\n",
       "      <th>7</th>\n",
       "      <td>wind</td>\n",
       "      <td>0.000000</td>\n",
       "    </tr>\n",
       "    <tr>\n",
       "      <th>5</th>\n",
       "      <td>rain</td>\n",
       "      <td>0.000000</td>\n",
       "    </tr>\n",
       "    <tr>\n",
       "      <th>4</th>\n",
       "      <td>pressure</td>\n",
       "      <td>0.000000</td>\n",
       "    </tr>\n",
       "    <tr>\n",
       "      <th>3</th>\n",
       "      <td>clouds</td>\n",
       "      <td>0.000000</td>\n",
       "    </tr>\n",
       "    <tr>\n",
       "      <th>31</th>\n",
       "      <td>Hour_04</td>\n",
       "      <td>0.000000</td>\n",
       "    </tr>\n",
       "    <tr>\n",
       "      <th>18</th>\n",
       "      <td>name_UberXL</td>\n",
       "      <td>0.000000</td>\n",
       "    </tr>\n",
       "    <tr>\n",
       "      <th>2</th>\n",
       "      <td>temp</td>\n",
       "      <td>0.000000</td>\n",
       "    </tr>\n",
       "    <tr>\n",
       "      <th>20</th>\n",
       "      <td>DayOfTheWeek_1</td>\n",
       "      <td>0.000000</td>\n",
       "    </tr>\n",
       "    <tr>\n",
       "      <th>21</th>\n",
       "      <td>DayOfTheWeek_2</td>\n",
       "      <td>0.000000</td>\n",
       "    </tr>\n",
       "    <tr>\n",
       "      <th>22</th>\n",
       "      <td>DayOfTheWeek_3</td>\n",
       "      <td>0.000000</td>\n",
       "    </tr>\n",
       "    <tr>\n",
       "      <th>23</th>\n",
       "      <td>DayOfTheWeek_4</td>\n",
       "      <td>0.000000</td>\n",
       "    </tr>\n",
       "    <tr>\n",
       "      <th>24</th>\n",
       "      <td>DayOfTheWeek_5</td>\n",
       "      <td>0.000000</td>\n",
       "    </tr>\n",
       "    <tr>\n",
       "      <th>25</th>\n",
       "      <td>DayOfTheWeek_6</td>\n",
       "      <td>0.000000</td>\n",
       "    </tr>\n",
       "    <tr>\n",
       "      <th>26</th>\n",
       "      <td>DayOfTheWeek_7</td>\n",
       "      <td>0.000000</td>\n",
       "    </tr>\n",
       "    <tr>\n",
       "      <th>27</th>\n",
       "      <td>Hour_00</td>\n",
       "      <td>0.000000</td>\n",
       "    </tr>\n",
       "    <tr>\n",
       "      <th>28</th>\n",
       "      <td>Hour_01</td>\n",
       "      <td>0.000000</td>\n",
       "    </tr>\n",
       "    <tr>\n",
       "      <th>29</th>\n",
       "      <td>Hour_02</td>\n",
       "      <td>0.000000</td>\n",
       "    </tr>\n",
       "    <tr>\n",
       "      <th>30</th>\n",
       "      <td>Hour_03</td>\n",
       "      <td>0.000000</td>\n",
       "    </tr>\n",
       "    <tr>\n",
       "      <th>6</th>\n",
       "      <td>humidity</td>\n",
       "      <td>0.000000</td>\n",
       "    </tr>\n",
       "    <tr>\n",
       "      <th>64</th>\n",
       "      <td>destination_West End</td>\n",
       "      <td>-0.035758</td>\n",
       "    </tr>\n",
       "    <tr>\n",
       "      <th>62</th>\n",
       "      <td>destination_South Station</td>\n",
       "      <td>-0.070692</td>\n",
       "    </tr>\n",
       "    <tr>\n",
       "      <th>56</th>\n",
       "      <td>destination_Fenway</td>\n",
       "      <td>-0.205640</td>\n",
       "    </tr>\n",
       "    <tr>\n",
       "      <th>54</th>\n",
       "      <td>destination_Beacon Hill</td>\n",
       "      <td>-0.271473</td>\n",
       "    </tr>\n",
       "    <tr>\n",
       "      <th>14</th>\n",
       "      <td>name_Lyft XL</td>\n",
       "      <td>-0.958700</td>\n",
       "    </tr>\n",
       "    <tr>\n",
       "      <th>17</th>\n",
       "      <td>name_UberX</td>\n",
       "      <td>-5.792427</td>\n",
       "    </tr>\n",
       "    <tr>\n",
       "      <th>19</th>\n",
       "      <td>name_WAV</td>\n",
       "      <td>-5.793463</td>\n",
       "    </tr>\n",
       "    <tr>\n",
       "      <th>13</th>\n",
       "      <td>name_Lyft</td>\n",
       "      <td>-6.611573</td>\n",
       "    </tr>\n",
       "    <tr>\n",
       "      <th>16</th>\n",
       "      <td>name_UberPool</td>\n",
       "      <td>-6.798085</td>\n",
       "    </tr>\n",
       "    <tr>\n",
       "      <th>15</th>\n",
       "      <td>name_Shared</td>\n",
       "      <td>-9.483870</td>\n",
       "    </tr>\n",
       "  </tbody>\n",
       "</table>\n",
       "<p>65 rows × 2 columns</p>\n",
       "</div>"
      ],
      "text/plain": [
       "                          features    weights\n",
       "12               name_Lux Black XL  15.802992\n",
       "9                   name_Black SUV  14.438882\n",
       "11                  name_Lux Black   6.614424\n",
       "8                       name_Black   4.750990\n",
       "0                         distance   3.125276\n",
       "1                 surge_multiplier   1.719672\n",
       "10                        name_Lux   1.364799\n",
       "57  destination_Financial District   0.338748\n",
       "63    destination_Theatre District   0.094743\n",
       "60       destination_North Station   0.090324\n",
       "55   destination_Boston University   0.006915\n",
       "37                         Hour_10   0.000000\n",
       "36                         Hour_09   0.000000\n",
       "45                         Hour_18   0.000000\n",
       "38                         Hour_11   0.000000\n",
       "39                         Hour_12   0.000000\n",
       "40                         Hour_13   0.000000\n",
       "41                         Hour_14   0.000000\n",
       "42                         Hour_15   0.000000\n",
       "43                         Hour_16   0.000000\n",
       "44                         Hour_17   0.000000\n",
       "50                         Hour_23   0.000000\n",
       "46                         Hour_19   0.000000\n",
       "47                         Hour_20   0.000000\n",
       "48                         Hour_21   0.000000\n",
       "49                         Hour_22   0.000000\n",
       "34                         Hour_07   0.000000\n",
       "51                   cab_type_Lyft   0.000000\n",
       "52                   cab_type_Uber   0.000000\n",
       "53            destination_Back Bay   0.000000\n",
       "..                             ...        ...\n",
       "33                         Hour_06   0.000000\n",
       "7                             wind   0.000000\n",
       "5                             rain   0.000000\n",
       "4                         pressure   0.000000\n",
       "3                           clouds   0.000000\n",
       "31                         Hour_04   0.000000\n",
       "18                     name_UberXL   0.000000\n",
       "2                             temp   0.000000\n",
       "20                  DayOfTheWeek_1   0.000000\n",
       "21                  DayOfTheWeek_2   0.000000\n",
       "22                  DayOfTheWeek_3   0.000000\n",
       "23                  DayOfTheWeek_4   0.000000\n",
       "24                  DayOfTheWeek_5   0.000000\n",
       "25                  DayOfTheWeek_6   0.000000\n",
       "26                  DayOfTheWeek_7   0.000000\n",
       "27                         Hour_00   0.000000\n",
       "28                         Hour_01   0.000000\n",
       "29                         Hour_02   0.000000\n",
       "30                         Hour_03   0.000000\n",
       "6                         humidity   0.000000\n",
       "64            destination_West End  -0.035758\n",
       "62       destination_South Station  -0.070692\n",
       "56              destination_Fenway  -0.205640\n",
       "54         destination_Beacon Hill  -0.271473\n",
       "14                    name_Lyft XL  -0.958700\n",
       "17                      name_UberX  -5.792427\n",
       "19                        name_WAV  -5.793463\n",
       "13                       name_Lyft  -6.611573\n",
       "16                   name_UberPool  -6.798085\n",
       "15                     name_Shared  -9.483870\n",
       "\n",
       "[65 rows x 2 columns]"
      ]
     },
     "execution_count": 32,
     "metadata": {},
     "output_type": "execute_result"
    }
   ],
   "source": [
    "coeff_pd"
   ]
  },
  {
   "cell_type": "markdown",
   "metadata": {},
   "source": [
    "**Feature Importance of weather on price**"
   ]
  },
  {
   "cell_type": "code",
   "execution_count": 59,
   "metadata": {},
   "outputs": [],
   "source": [
    "weather_list = ['temp', 'clouds', 'humidity', 'wind', 'pressure', 'rain']\n",
    "weather_imp = coeff_pd[coeff_pd['features'].isin(weather_list)]"
   ]
  },
  {
   "cell_type": "code",
   "execution_count": 60,
   "metadata": {},
   "outputs": [
    {
     "data": {
      "text/html": [
       "<div>\n",
       "<style scoped>\n",
       "    .dataframe tbody tr th:only-of-type {\n",
       "        vertical-align: middle;\n",
       "    }\n",
       "\n",
       "    .dataframe tbody tr th {\n",
       "        vertical-align: top;\n",
       "    }\n",
       "\n",
       "    .dataframe thead th {\n",
       "        text-align: right;\n",
       "    }\n",
       "</style>\n",
       "<table border=\"1\" class=\"dataframe\">\n",
       "  <thead>\n",
       "    <tr style=\"text-align: right;\">\n",
       "      <th></th>\n",
       "      <th>features</th>\n",
       "      <th>weights</th>\n",
       "    </tr>\n",
       "  </thead>\n",
       "  <tbody>\n",
       "    <tr>\n",
       "      <th>7</th>\n",
       "      <td>wind</td>\n",
       "      <td>0.0</td>\n",
       "    </tr>\n",
       "    <tr>\n",
       "      <th>5</th>\n",
       "      <td>rain</td>\n",
       "      <td>0.0</td>\n",
       "    </tr>\n",
       "    <tr>\n",
       "      <th>4</th>\n",
       "      <td>pressure</td>\n",
       "      <td>0.0</td>\n",
       "    </tr>\n",
       "    <tr>\n",
       "      <th>3</th>\n",
       "      <td>clouds</td>\n",
       "      <td>0.0</td>\n",
       "    </tr>\n",
       "    <tr>\n",
       "      <th>2</th>\n",
       "      <td>temp</td>\n",
       "      <td>0.0</td>\n",
       "    </tr>\n",
       "    <tr>\n",
       "      <th>6</th>\n",
       "      <td>humidity</td>\n",
       "      <td>0.0</td>\n",
       "    </tr>\n",
       "  </tbody>\n",
       "</table>\n",
       "</div>"
      ],
      "text/plain": [
       "   features  weights\n",
       "7      wind      0.0\n",
       "5      rain      0.0\n",
       "4  pressure      0.0\n",
       "3    clouds      0.0\n",
       "2      temp      0.0\n",
       "6  humidity      0.0"
      ]
     },
     "execution_count": 60,
     "metadata": {},
     "output_type": "execute_result"
    }
   ],
   "source": [
    "weather_imp"
   ]
  },
  {
   "cell_type": "markdown",
   "metadata": {},
   "source": [
    "**Random Forest**"
   ]
  },
  {
   "cell_type": "markdown",
   "metadata": {},
   "source": [
    "**Feature Importance  \n",
    "Random Forest with OneHotEncoding (All Features): Fit on entire data**"
   ]
  },
  {
   "cell_type": "code",
   "execution_count": 36,
   "metadata": {},
   "outputs": [],
   "source": [
    "pipe_all_rf = Pipeline(stages=[feature.StringIndexer(inputCol='name', outputCol=\"name_index\", stringOrderType='alphabetAsc'),\n",
    "                               feature.StringIndexer(inputCol='DayOfTheWeek', outputCol=\"DayOfTheWeek_index\", stringOrderType='alphabetAsc'),\n",
    "                               feature.StringIndexer(inputCol='Hour', outputCol=\"Hour_index\", stringOrderType='alphabetAsc'),\n",
    "                               feature.StringIndexer(inputCol='destination', outputCol=\"destination_index\", stringOrderType='alphabetAsc'),\n",
    "                               feature.StringIndexer(inputCol='cab_type', outputCol=\"cab_type_index\", stringOrderType='alphabetAsc'),\n",
    "                               feature.OneHotEncoder(inputCol=\"name_index\", outputCol=\"name_feat\", dropLast=False),\n",
    "                               feature.OneHotEncoder(inputCol=\"DayOfTheWeek_index\", outputCol=\"DayOfTheWeek_feat\", dropLast=False),\n",
    "                               feature.OneHotEncoder(inputCol=\"Hour_index\", outputCol=\"Hour_feat\", dropLast=False),\n",
    "                               feature.OneHotEncoder(inputCol=\"destination_index\", outputCol=\"destination_feat\", dropLast=False),\n",
    "                               feature.OneHotEncoder(inputCol = 'cab_type_index', outputCol = 'cab_type_feat', dropLast=False),\n",
    "                               feature.VectorAssembler(inputCols=['distance','surge_multiplier','temp','clouds','pressure','rain','humidity','wind'],\n",
    "                                                     outputCol='numerical_features'),\n",
    "                               feature.StandardScaler(inputCol='numerical_features',outputCol='scaled_numerical_features'),\n",
    "                               feature.VectorAssembler(inputCols=['scaled_numerical_features', 'name_feat', 'DayOfTheWeek_feat', 'Hour_feat', 'destination_feat', 'cab_type_feat'],\n",
    "                                                     outputCol='final_features')])"
   ]
  },
  {
   "cell_type": "code",
   "execution_count": 37,
   "metadata": {},
   "outputs": [],
   "source": [
    "rf = regression.RandomForestRegressor(labelCol='price', featuresCol=\"final_features\", maxDepth = 7, numTrees = 600)"
   ]
  },
  {
   "cell_type": "code",
   "execution_count": 38,
   "metadata": {
    "scrolled": false
   },
   "outputs": [],
   "source": [
    "pipe_rf5 = Pipeline(stages=[pipe_all_rf, rf]).fit(merged_df)"
   ]
  },
  {
   "cell_type": "code",
   "execution_count": 39,
   "metadata": {},
   "outputs": [],
   "source": [
    "features_all = pipe_rf5.stages[0].stages[-3].getInputCols()\n",
    "for i in range(5):\n",
    "    for j in range(len(pipe_rf5.stages[0].stages[i].labels)):\n",
    "        col = pipe_rf5.stages[0].stages[i].getInputCol() + \"_\" + pipe_rf5.stages[0].stages[i].labels[j]\n",
    "        #col = col.replace(\" \", \"_\")\n",
    "        features_all.append(col)"
   ]
  },
  {
   "cell_type": "code",
   "execution_count": 40,
   "metadata": {},
   "outputs": [],
   "source": [
    "feature_rf = pd.DataFrame(list(zip(features_all, pipe_rf5.stages[-1].featureImportances.toArray())),\n",
    "            columns = ['features', 'importance']).sort_values('importance', ascending = False)"
   ]
  },
  {
   "cell_type": "code",
   "execution_count": 41,
   "metadata": {
    "scrolled": true
   },
   "outputs": [
    {
     "data": {
      "text/html": [
       "<div>\n",
       "<style scoped>\n",
       "    .dataframe tbody tr th:only-of-type {\n",
       "        vertical-align: middle;\n",
       "    }\n",
       "\n",
       "    .dataframe tbody tr th {\n",
       "        vertical-align: top;\n",
       "    }\n",
       "\n",
       "    .dataframe thead th {\n",
       "        text-align: right;\n",
       "    }\n",
       "</style>\n",
       "<table border=\"1\" class=\"dataframe\">\n",
       "  <thead>\n",
       "    <tr style=\"text-align: right;\">\n",
       "      <th></th>\n",
       "      <th>features</th>\n",
       "      <th>importance</th>\n",
       "    </tr>\n",
       "  </thead>\n",
       "  <tbody>\n",
       "    <tr>\n",
       "      <th>12</th>\n",
       "      <td>name_Lux Black XL</td>\n",
       "      <td>0.298925</td>\n",
       "    </tr>\n",
       "    <tr>\n",
       "      <th>9</th>\n",
       "      <td>name_Black SUV</td>\n",
       "      <td>0.245763</td>\n",
       "    </tr>\n",
       "    <tr>\n",
       "      <th>0</th>\n",
       "      <td>distance</td>\n",
       "      <td>0.101268</td>\n",
       "    </tr>\n",
       "    <tr>\n",
       "      <th>15</th>\n",
       "      <td>name_Shared</td>\n",
       "      <td>0.087586</td>\n",
       "    </tr>\n",
       "    <tr>\n",
       "      <th>11</th>\n",
       "      <td>name_Lux Black</td>\n",
       "      <td>0.063191</td>\n",
       "    </tr>\n",
       "    <tr>\n",
       "      <th>8</th>\n",
       "      <td>name_Black</td>\n",
       "      <td>0.037390</td>\n",
       "    </tr>\n",
       "    <tr>\n",
       "      <th>16</th>\n",
       "      <td>name_UberPool</td>\n",
       "      <td>0.033198</td>\n",
       "    </tr>\n",
       "    <tr>\n",
       "      <th>1</th>\n",
       "      <td>surge_multiplier</td>\n",
       "      <td>0.032950</td>\n",
       "    </tr>\n",
       "    <tr>\n",
       "      <th>13</th>\n",
       "      <td>name_Lyft</td>\n",
       "      <td>0.022261</td>\n",
       "    </tr>\n",
       "    <tr>\n",
       "      <th>17</th>\n",
       "      <td>name_UberX</td>\n",
       "      <td>0.019978</td>\n",
       "    </tr>\n",
       "    <tr>\n",
       "      <th>19</th>\n",
       "      <td>name_WAV</td>\n",
       "      <td>0.017339</td>\n",
       "    </tr>\n",
       "    <tr>\n",
       "      <th>64</th>\n",
       "      <td>cab_type_Uber</td>\n",
       "      <td>0.009762</td>\n",
       "    </tr>\n",
       "    <tr>\n",
       "      <th>63</th>\n",
       "      <td>cab_type_Lyft</td>\n",
       "      <td>0.009415</td>\n",
       "    </tr>\n",
       "    <tr>\n",
       "      <th>10</th>\n",
       "      <td>name_Lux</td>\n",
       "      <td>0.008783</td>\n",
       "    </tr>\n",
       "    <tr>\n",
       "      <th>18</th>\n",
       "      <td>name_UberXL</td>\n",
       "      <td>0.003799</td>\n",
       "    </tr>\n",
       "    <tr>\n",
       "      <th>14</th>\n",
       "      <td>name_Lyft XL</td>\n",
       "      <td>0.002316</td>\n",
       "    </tr>\n",
       "    <tr>\n",
       "      <th>55</th>\n",
       "      <td>destination_Financial District</td>\n",
       "      <td>0.002076</td>\n",
       "    </tr>\n",
       "    <tr>\n",
       "      <th>53</th>\n",
       "      <td>destination_Boston University</td>\n",
       "      <td>0.001259</td>\n",
       "    </tr>\n",
       "    <tr>\n",
       "      <th>56</th>\n",
       "      <td>destination_Haymarket Square</td>\n",
       "      <td>0.000773</td>\n",
       "    </tr>\n",
       "    <tr>\n",
       "      <th>52</th>\n",
       "      <td>destination_Beacon Hill</td>\n",
       "      <td>0.000493</td>\n",
       "    </tr>\n",
       "    <tr>\n",
       "      <th>60</th>\n",
       "      <td>destination_South Station</td>\n",
       "      <td>0.000310</td>\n",
       "    </tr>\n",
       "    <tr>\n",
       "      <th>54</th>\n",
       "      <td>destination_Fenway</td>\n",
       "      <td>0.000264</td>\n",
       "    </tr>\n",
       "    <tr>\n",
       "      <th>57</th>\n",
       "      <td>destination_North End</td>\n",
       "      <td>0.000177</td>\n",
       "    </tr>\n",
       "    <tr>\n",
       "      <th>59</th>\n",
       "      <td>destination_Northeastern University</td>\n",
       "      <td>0.000171</td>\n",
       "    </tr>\n",
       "    <tr>\n",
       "      <th>58</th>\n",
       "      <td>destination_North Station</td>\n",
       "      <td>0.000144</td>\n",
       "    </tr>\n",
       "    <tr>\n",
       "      <th>62</th>\n",
       "      <td>destination_West End</td>\n",
       "      <td>0.000096</td>\n",
       "    </tr>\n",
       "    <tr>\n",
       "      <th>61</th>\n",
       "      <td>destination_Theatre District</td>\n",
       "      <td>0.000075</td>\n",
       "    </tr>\n",
       "    <tr>\n",
       "      <th>51</th>\n",
       "      <td>destination_Back Bay</td>\n",
       "      <td>0.000056</td>\n",
       "    </tr>\n",
       "    <tr>\n",
       "      <th>6</th>\n",
       "      <td>humidity</td>\n",
       "      <td>0.000026</td>\n",
       "    </tr>\n",
       "    <tr>\n",
       "      <th>2</th>\n",
       "      <td>temp</td>\n",
       "      <td>0.000024</td>\n",
       "    </tr>\n",
       "    <tr>\n",
       "      <th>...</th>\n",
       "      <td>...</td>\n",
       "      <td>...</td>\n",
       "    </tr>\n",
       "    <tr>\n",
       "      <th>28</th>\n",
       "      <td>Hour_01</td>\n",
       "      <td>0.000003</td>\n",
       "    </tr>\n",
       "    <tr>\n",
       "      <th>24</th>\n",
       "      <td>DayOfTheWeek_5</td>\n",
       "      <td>0.000003</td>\n",
       "    </tr>\n",
       "    <tr>\n",
       "      <th>38</th>\n",
       "      <td>Hour_11</td>\n",
       "      <td>0.000003</td>\n",
       "    </tr>\n",
       "    <tr>\n",
       "      <th>44</th>\n",
       "      <td>Hour_17</td>\n",
       "      <td>0.000003</td>\n",
       "    </tr>\n",
       "    <tr>\n",
       "      <th>33</th>\n",
       "      <td>Hour_06</td>\n",
       "      <td>0.000003</td>\n",
       "    </tr>\n",
       "    <tr>\n",
       "      <th>48</th>\n",
       "      <td>Hour_21</td>\n",
       "      <td>0.000002</td>\n",
       "    </tr>\n",
       "    <tr>\n",
       "      <th>47</th>\n",
       "      <td>Hour_20</td>\n",
       "      <td>0.000002</td>\n",
       "    </tr>\n",
       "    <tr>\n",
       "      <th>40</th>\n",
       "      <td>Hour_13</td>\n",
       "      <td>0.000002</td>\n",
       "    </tr>\n",
       "    <tr>\n",
       "      <th>49</th>\n",
       "      <td>Hour_22</td>\n",
       "      <td>0.000002</td>\n",
       "    </tr>\n",
       "    <tr>\n",
       "      <th>30</th>\n",
       "      <td>Hour_03</td>\n",
       "      <td>0.000002</td>\n",
       "    </tr>\n",
       "    <tr>\n",
       "      <th>29</th>\n",
       "      <td>Hour_02</td>\n",
       "      <td>0.000002</td>\n",
       "    </tr>\n",
       "    <tr>\n",
       "      <th>23</th>\n",
       "      <td>DayOfTheWeek_4</td>\n",
       "      <td>0.000002</td>\n",
       "    </tr>\n",
       "    <tr>\n",
       "      <th>42</th>\n",
       "      <td>Hour_15</td>\n",
       "      <td>0.000002</td>\n",
       "    </tr>\n",
       "    <tr>\n",
       "      <th>27</th>\n",
       "      <td>Hour_00</td>\n",
       "      <td>0.000002</td>\n",
       "    </tr>\n",
       "    <tr>\n",
       "      <th>22</th>\n",
       "      <td>DayOfTheWeek_3</td>\n",
       "      <td>0.000002</td>\n",
       "    </tr>\n",
       "    <tr>\n",
       "      <th>41</th>\n",
       "      <td>Hour_14</td>\n",
       "      <td>0.000002</td>\n",
       "    </tr>\n",
       "    <tr>\n",
       "      <th>25</th>\n",
       "      <td>DayOfTheWeek_6</td>\n",
       "      <td>0.000002</td>\n",
       "    </tr>\n",
       "    <tr>\n",
       "      <th>21</th>\n",
       "      <td>DayOfTheWeek_2</td>\n",
       "      <td>0.000002</td>\n",
       "    </tr>\n",
       "    <tr>\n",
       "      <th>20</th>\n",
       "      <td>DayOfTheWeek_1</td>\n",
       "      <td>0.000002</td>\n",
       "    </tr>\n",
       "    <tr>\n",
       "      <th>39</th>\n",
       "      <td>Hour_12</td>\n",
       "      <td>0.000002</td>\n",
       "    </tr>\n",
       "    <tr>\n",
       "      <th>34</th>\n",
       "      <td>Hour_07</td>\n",
       "      <td>0.000002</td>\n",
       "    </tr>\n",
       "    <tr>\n",
       "      <th>43</th>\n",
       "      <td>Hour_16</td>\n",
       "      <td>0.000002</td>\n",
       "    </tr>\n",
       "    <tr>\n",
       "      <th>36</th>\n",
       "      <td>Hour_09</td>\n",
       "      <td>0.000002</td>\n",
       "    </tr>\n",
       "    <tr>\n",
       "      <th>31</th>\n",
       "      <td>Hour_04</td>\n",
       "      <td>0.000002</td>\n",
       "    </tr>\n",
       "    <tr>\n",
       "      <th>35</th>\n",
       "      <td>Hour_08</td>\n",
       "      <td>0.000002</td>\n",
       "    </tr>\n",
       "    <tr>\n",
       "      <th>37</th>\n",
       "      <td>Hour_10</td>\n",
       "      <td>0.000002</td>\n",
       "    </tr>\n",
       "    <tr>\n",
       "      <th>45</th>\n",
       "      <td>Hour_18</td>\n",
       "      <td>0.000002</td>\n",
       "    </tr>\n",
       "    <tr>\n",
       "      <th>50</th>\n",
       "      <td>Hour_23</td>\n",
       "      <td>0.000001</td>\n",
       "    </tr>\n",
       "    <tr>\n",
       "      <th>32</th>\n",
       "      <td>Hour_05</td>\n",
       "      <td>0.000001</td>\n",
       "    </tr>\n",
       "    <tr>\n",
       "      <th>46</th>\n",
       "      <td>Hour_19</td>\n",
       "      <td>0.000001</td>\n",
       "    </tr>\n",
       "  </tbody>\n",
       "</table>\n",
       "<p>65 rows × 2 columns</p>\n",
       "</div>"
      ],
      "text/plain": [
       "                               features  importance\n",
       "12                    name_Lux Black XL    0.298925\n",
       "9                        name_Black SUV    0.245763\n",
       "0                              distance    0.101268\n",
       "15                          name_Shared    0.087586\n",
       "11                       name_Lux Black    0.063191\n",
       "8                            name_Black    0.037390\n",
       "16                        name_UberPool    0.033198\n",
       "1                      surge_multiplier    0.032950\n",
       "13                            name_Lyft    0.022261\n",
       "17                           name_UberX    0.019978\n",
       "19                             name_WAV    0.017339\n",
       "64                        cab_type_Uber    0.009762\n",
       "63                        cab_type_Lyft    0.009415\n",
       "10                             name_Lux    0.008783\n",
       "18                          name_UberXL    0.003799\n",
       "14                         name_Lyft XL    0.002316\n",
       "55       destination_Financial District    0.002076\n",
       "53        destination_Boston University    0.001259\n",
       "56         destination_Haymarket Square    0.000773\n",
       "52              destination_Beacon Hill    0.000493\n",
       "60            destination_South Station    0.000310\n",
       "54                   destination_Fenway    0.000264\n",
       "57                destination_North End    0.000177\n",
       "59  destination_Northeastern University    0.000171\n",
       "58            destination_North Station    0.000144\n",
       "62                 destination_West End    0.000096\n",
       "61         destination_Theatre District    0.000075\n",
       "51                 destination_Back Bay    0.000056\n",
       "6                              humidity    0.000026\n",
       "2                                  temp    0.000024\n",
       "..                                  ...         ...\n",
       "28                              Hour_01    0.000003\n",
       "24                       DayOfTheWeek_5    0.000003\n",
       "38                              Hour_11    0.000003\n",
       "44                              Hour_17    0.000003\n",
       "33                              Hour_06    0.000003\n",
       "48                              Hour_21    0.000002\n",
       "47                              Hour_20    0.000002\n",
       "40                              Hour_13    0.000002\n",
       "49                              Hour_22    0.000002\n",
       "30                              Hour_03    0.000002\n",
       "29                              Hour_02    0.000002\n",
       "23                       DayOfTheWeek_4    0.000002\n",
       "42                              Hour_15    0.000002\n",
       "27                              Hour_00    0.000002\n",
       "22                       DayOfTheWeek_3    0.000002\n",
       "41                              Hour_14    0.000002\n",
       "25                       DayOfTheWeek_6    0.000002\n",
       "21                       DayOfTheWeek_2    0.000002\n",
       "20                       DayOfTheWeek_1    0.000002\n",
       "39                              Hour_12    0.000002\n",
       "34                              Hour_07    0.000002\n",
       "43                              Hour_16    0.000002\n",
       "36                              Hour_09    0.000002\n",
       "31                              Hour_04    0.000002\n",
       "35                              Hour_08    0.000002\n",
       "37                              Hour_10    0.000002\n",
       "45                              Hour_18    0.000002\n",
       "50                              Hour_23    0.000001\n",
       "32                              Hour_05    0.000001\n",
       "46                              Hour_19    0.000001\n",
       "\n",
       "[65 rows x 2 columns]"
      ]
     },
     "execution_count": 41,
     "metadata": {},
     "output_type": "execute_result"
    }
   ],
   "source": [
    "feature_rf"
   ]
  },
  {
   "cell_type": "markdown",
   "metadata": {},
   "source": [
    "**Random Forest with Selected Features**"
   ]
  },
  {
   "cell_type": "code",
   "execution_count": 81,
   "metadata": {},
   "outputs": [],
   "source": [
    "new_model = Pipeline(stages=[feature.StringIndexer(inputCol='name', outputCol=\"name_index\",stringOrderType='alphabetAsc'),\n",
    "                             feature.StringIndexer(inputCol='cab_type', outputCol=\"cab_type_index\",stringOrderType='alphabetAsc'),\n",
    "                             feature.StringIndexer(inputCol='destination', outputCol=\"destination_index\",stringOrderType='alphabetAsc'),\n",
    "                             feature.VectorAssembler(inputCols=['distance','surge_multiplier', 'name_index', 'cab_type_index', 'destination_index'], \n",
    "                                                     outputCol='final_features')])"
   ]
  },
  {
   "cell_type": "markdown",
   "metadata": {},
   "source": [
    "**Random Forest without encoding**"
   ]
  },
  {
   "cell_type": "code",
   "execution_count": 82,
   "metadata": {},
   "outputs": [],
   "source": [
    "# after several combinations of parameters, this model turns out to have the lowest RMSE value. \n",
    "# Thus this our best random forest model\n",
    "pipe_rf = Pipeline(stages=[new_model, rf]).fit(training_df)"
   ]
  },
  {
   "cell_type": "code",
   "execution_count": 83,
   "metadata": {},
   "outputs": [
    {
     "data": {
      "text/plain": [
       "[PipelineModel_e29b2c551aec,\n",
       " RandomForestRegressionModel (uid=RandomForestRegressor_16d9177e8f8d) with 600 trees]"
      ]
     },
     "execution_count": 83,
     "metadata": {},
     "output_type": "execute_result"
    }
   ],
   "source": [
    "pipe_rf.stages"
   ]
  },
  {
   "cell_type": "code",
   "execution_count": 84,
   "metadata": {},
   "outputs": [
    {
     "name": "stdout",
     "output_type": "stream",
     "text": [
      "RMSE of Model =  2.0808460464452687\n"
     ]
    }
   ],
   "source": [
    "RMSE = evaluator.evaluate(pipe_rf.transform(validation_df))\n",
    "print(\"RMSE of Model = \", RMSE)"
   ]
  },
  {
   "cell_type": "code",
   "execution_count": 67,
   "metadata": {},
   "outputs": [
    {
     "data": {
      "text/html": [
       "<div>\n",
       "<style scoped>\n",
       "    .dataframe tbody tr th:only-of-type {\n",
       "        vertical-align: middle;\n",
       "    }\n",
       "\n",
       "    .dataframe tbody tr th {\n",
       "        vertical-align: top;\n",
       "    }\n",
       "\n",
       "    .dataframe thead th {\n",
       "        text-align: right;\n",
       "    }\n",
       "</style>\n",
       "<table border=\"1\" class=\"dataframe\">\n",
       "  <thead>\n",
       "    <tr style=\"text-align: right;\">\n",
       "      <th></th>\n",
       "      <th>features</th>\n",
       "      <th>importance</th>\n",
       "    </tr>\n",
       "  </thead>\n",
       "  <tbody>\n",
       "    <tr>\n",
       "      <th>2</th>\n",
       "      <td>name_index</td>\n",
       "      <td>0.810109</td>\n",
       "    </tr>\n",
       "    <tr>\n",
       "      <th>0</th>\n",
       "      <td>distance</td>\n",
       "      <td>0.121035</td>\n",
       "    </tr>\n",
       "    <tr>\n",
       "      <th>1</th>\n",
       "      <td>surge_multiplier</td>\n",
       "      <td>0.053201</td>\n",
       "    </tr>\n",
       "    <tr>\n",
       "      <th>4</th>\n",
       "      <td>destination_index</td>\n",
       "      <td>0.012991</td>\n",
       "    </tr>\n",
       "    <tr>\n",
       "      <th>3</th>\n",
       "      <td>cab_type_index</td>\n",
       "      <td>0.002665</td>\n",
       "    </tr>\n",
       "  </tbody>\n",
       "</table>\n",
       "</div>"
      ],
      "text/plain": [
       "            features  importance\n",
       "2         name_index    0.810109\n",
       "0           distance    0.121035\n",
       "1   surge_multiplier    0.053201\n",
       "4  destination_index    0.012991\n",
       "3     cab_type_index    0.002665"
      ]
     },
     "execution_count": 67,
     "metadata": {},
     "output_type": "execute_result"
    }
   ],
   "source": [
    "# Creating a dataframe of features with their importances\n",
    "pd.DataFrame(list(zip(pipe_rf.stages[0].stages[-1].getInputCols(), pipe_rf.stages[-1].featureImportances.toArray())),\n",
    "            columns = ['features', 'importance']).sort_values('importance', ascending = False)"
   ]
  },
  {
   "cell_type": "markdown",
   "metadata": {},
   "source": [
    "**Random Forest with OneHotEncoding**"
   ]
  },
  {
   "cell_type": "code",
   "execution_count": null,
   "metadata": {},
   "outputs": [],
   "source": [
    "new_model3 = Pipeline(stages=[feature.StringIndexer(inputCol='name', outputCol=\"name_index\",stringOrderType='alphabetAsc'),\n",
    "                             feature.StringIndexer(inputCol='cab_type', outputCol=\"cab_type_index\",stringOrderType='alphabetAsc'),\n",
    "                             feature.StringIndexer(inputCol='destination', outputCol=\"destination_index\",stringOrderType='alphabetAsc'),\n",
    "                              feature.OneHotEncoder(inputCol = 'name_index', outputCol = 'name_feat'),\n",
    "                              feature.OneHotEncoder(inputCol = 'cab_type_index', outputCol = 'cab_type_feat'),\n",
    "                            feature.OneHotEncoder(inputCol = 'destination_index', outputCol = 'destination_feat'),\n",
    "                             feature.VectorAssembler(inputCols=['distance','surge_multiplier', 'name_feat', 'cab_type_feat', 'destination_feat'], \n",
    "                                                     outputCol='final_features')])"
   ]
  },
  {
   "cell_type": "code",
   "execution_count": null,
   "metadata": {},
   "outputs": [],
   "source": [
    "pipe_rf3 = Pipeline(stages=[new_model3, rf]).fit(training_df)"
   ]
  },
  {
   "cell_type": "code",
   "execution_count": null,
   "metadata": {},
   "outputs": [],
   "source": [
    "RMSE3 = evaluator.evaluate(pipe_rf3.transform(validation_df))\n",
    "print(\"RMSE of Model = \", RMSE3)"
   ]
  },
  {
   "cell_type": "markdown",
   "metadata": {},
   "source": [
    "**Gradient Boosting with Selected Features**"
   ]
  },
  {
   "cell_type": "markdown",
   "metadata": {},
   "source": [
    "**Gradient Boosting without Encoding**"
   ]
  },
  {
   "cell_type": "code",
   "execution_count": null,
   "metadata": {},
   "outputs": [],
   "source": [
    "gb1 = Pipeline(stages=[new_model,GBTRegressor(featuresCol=\"final_features\", maxDepth = 7, maxIter=10,labelCol=\"price\")]).fit(training_df)"
   ]
  },
  {
   "cell_type": "code",
   "execution_count": null,
   "metadata": {},
   "outputs": [],
   "source": [
    "gb_rmse1 = evaluator.evaluate(gb1.transform(validation_df))\n",
    "gb_rmse1"
   ]
  },
  {
   "cell_type": "code",
   "execution_count": null,
   "metadata": {},
   "outputs": [],
   "source": [
    "gb2 = Pipeline(stages=[new_model,GBTRegressor(featuresCol=\"final_features\", maxDepth = 7, maxIter=20,labelCol=\"price\")]).fit(training_df)"
   ]
  },
  {
   "cell_type": "code",
   "execution_count": null,
   "metadata": {},
   "outputs": [],
   "source": [
    "gb_rmse2 = evaluator.evaluate(gb2.transform(validation_df))\n",
    "gb_rmse2"
   ]
  },
  {
   "cell_type": "code",
   "execution_count": 62,
   "metadata": {},
   "outputs": [],
   "source": [
    "gb3 = Pipeline(stages=[new_model,GBTRegressor(featuresCol=\"final_features\", maxDepth = 7, maxIter=30,labelCol=\"price\")]).fit(training_df)"
   ]
  },
  {
   "cell_type": "code",
   "execution_count": 63,
   "metadata": {},
   "outputs": [
    {
     "data": {
      "text/plain": [
       "1.7279872617092797"
      ]
     },
     "execution_count": 63,
     "metadata": {},
     "output_type": "execute_result"
    }
   ],
   "source": [
    "gb_rmse3 = evaluator.evaluate(gb3.transform(validation_df))\n",
    "gb_rmse3"
   ]
  },
  {
   "cell_type": "code",
   "execution_count": 32,
   "metadata": {},
   "outputs": [],
   "source": [
    "pred_df = gb3.transform(testing_df)"
   ]
  },
  {
   "cell_type": "markdown",
   "metadata": {},
   "source": [
    "**Gradient Boosting With Encoding**"
   ]
  },
  {
   "cell_type": "code",
   "execution_count": null,
   "metadata": {},
   "outputs": [],
   "source": [
    "gb_e1 = Pipeline(stages=[new_model3,GBTRegressor(featuresCol=\"final_features\", maxDepth = 7, maxIter=10,labelCol=\"price\")]).fit(training_df)"
   ]
  },
  {
   "cell_type": "code",
   "execution_count": null,
   "metadata": {},
   "outputs": [],
   "source": [
    "gb_e1_rmse = evaluator.evaluate(gb_e1.transform(validation_df))\n",
    "gb_e1_rmse"
   ]
  },
  {
   "cell_type": "code",
   "execution_count": null,
   "metadata": {},
   "outputs": [],
   "source": [
    "gb_e2 = Pipeline(stages=[new_model3,GBTRegressor(featuresCol=\"final_features\", maxDepth = 7, maxIter=20,labelCol=\"price\")]).fit(training_df)"
   ]
  },
  {
   "cell_type": "code",
   "execution_count": null,
   "metadata": {},
   "outputs": [],
   "source": [
    "gb_e2_rmse = evaluator.evaluate(gb_e2.transform(validation_df))\n",
    "gb_e2_rmse"
   ]
  },
  {
   "cell_type": "code",
   "execution_count": null,
   "metadata": {},
   "outputs": [],
   "source": [
    "gb_e3 = Pipeline(stages=[new_model3,GBTRegressor(featuresCol=\"final_features\", maxDepth = 7, maxIter=30,labelCol=\"price\")]).fit(training_df)"
   ]
  },
  {
   "cell_type": "code",
   "execution_count": null,
   "metadata": {},
   "outputs": [],
   "source": [
    "gb_e3_rmse = evaluator.evaluate(gb_e3.transform(validation_df))\n",
    "gb_e3_rmse"
   ]
  },
  {
   "cell_type": "code",
   "execution_count": null,
   "metadata": {},
   "outputs": [],
   "source": [
    "pred_df = gb_e3.transform(testing_df)"
   ]
  },
  {
   "cell_type": "markdown",
   "metadata": {},
   "source": [
    "**Best Model**"
   ]
  },
  {
   "cell_type": "code",
   "execution_count": 64,
   "metadata": {},
   "outputs": [],
   "source": [
    "# Gradient Bossting without encoded attributes and with parameters maxDepth = 7 and maxIter=30 is the best model\n",
    "best_model = gb3"
   ]
  },
  {
   "cell_type": "markdown",
   "metadata": {},
   "source": [
    "**Binning Data: To check if Hour, DayOfTheWeek, weather have improved influenc on price after feature engineering**"
   ]
  },
  {
   "cell_type": "code",
   "execution_count": null,
   "metadata": {},
   "outputs": [],
   "source": [
    "features_df = merged_df"
   ]
  },
  {
   "cell_type": "markdown",
   "metadata": {},
   "source": [
    "**Hour & DayOfTheWeek**"
   ]
  },
  {
   "cell_type": "code",
   "execution_count": 58,
   "metadata": {},
   "outputs": [],
   "source": [
    "features_df = features_df.withColumn(\"Hour\", features_df.Hour.cast('integer'))\n",
    "features_df = features_df.withColumn(\"DayOfTheWeek\", features_df.DayOfTheWeek.cast('integer'))"
   ]
  },
  {
   "cell_type": "code",
   "execution_count": 59,
   "metadata": {},
   "outputs": [
    {
     "name": "stdout",
     "output_type": "stream",
     "text": [
      "+-------+-----------------+\n",
      "|summary|             Hour|\n",
      "+-------+-----------------+\n",
      "|  count|           635242|\n",
      "|   mean|11.63644878644674|\n",
      "| stddev| 6.94576477457282|\n",
      "|    min|                0|\n",
      "|    25%|                6|\n",
      "|    50%|               12|\n",
      "|    75%|               18|\n",
      "|    max|               23|\n",
      "+-------+-----------------+\n",
      "\n"
     ]
    }
   ],
   "source": [
    "features_df.select(\"Hour\").summary().show()"
   ]
  },
  {
   "cell_type": "code",
   "execution_count": 60,
   "metadata": {},
   "outputs": [],
   "source": [
    "features_df = feature.QuantileDiscretizer(numBuckets=6, inputCol = 'Hour', outputCol = 'Hour_bin').fit(features_df).transform(features_df)"
   ]
  },
  {
   "cell_type": "code",
   "execution_count": 61,
   "metadata": {},
   "outputs": [],
   "source": [
    "features_df = features_df.withColumn(\"Hour_bin\", features_df.Hour_bin.cast('string'))"
   ]
  },
  {
   "cell_type": "code",
   "execution_count": 62,
   "metadata": {},
   "outputs": [
    {
     "name": "stdout",
     "output_type": "stream",
     "text": [
      "+----+--------+\n",
      "|Hour|Hour_bin|\n",
      "+----+--------+\n",
      "|   0|     0.0|\n",
      "|   1|     0.0|\n",
      "|   2|     0.0|\n",
      "|   3|     1.0|\n",
      "|   4|     1.0|\n",
      "|   5|     1.0|\n",
      "|   6|     1.0|\n",
      "|   7|     1.0|\n",
      "|   8|     2.0|\n",
      "|   9|     2.0|\n",
      "|  10|     2.0|\n",
      "|  11|     2.0|\n",
      "|  12|     3.0|\n",
      "|  13|     3.0|\n",
      "|  14|     3.0|\n",
      "|  15|     3.0|\n",
      "|  16|     4.0|\n",
      "|  17|     4.0|\n",
      "|  18|     4.0|\n",
      "|  19|     4.0|\n",
      "|  20|     5.0|\n",
      "|  21|     5.0|\n",
      "|  22|     5.0|\n",
      "|  23|     5.0|\n",
      "+----+--------+\n",
      "\n"
     ]
    }
   ],
   "source": [
    "features_df.select('Hour', 'Hour_bin').distinct().orderBy('Hour').show(24)"
   ]
  },
  {
   "cell_type": "code",
   "execution_count": 63,
   "metadata": {},
   "outputs": [],
   "source": [
    "features_df = features_df.withColumn(\"TypeOfDay\", fn.when(fn.col(\"DayOfTheWeek\") > 5, 1).otherwise(0))"
   ]
  },
  {
   "cell_type": "code",
   "execution_count": 64,
   "metadata": {},
   "outputs": [],
   "source": [
    "features_df = features_df.withColumn(\"TypeOfDay\", features_df.TypeOfDay.cast('string'))"
   ]
  },
  {
   "cell_type": "code",
   "execution_count": 65,
   "metadata": {},
   "outputs": [
    {
     "name": "stdout",
     "output_type": "stream",
     "text": [
      "+------------+---------+\n",
      "|DayOfTheWeek|TypeOfDay|\n",
      "+------------+---------+\n",
      "|           1|        0|\n",
      "|           2|        0|\n",
      "|           3|        0|\n",
      "|           4|        0|\n",
      "|           5|        0|\n",
      "|           6|        1|\n",
      "|           7|        1|\n",
      "+------------+---------+\n",
      "\n"
     ]
    }
   ],
   "source": [
    "features_df.select('DayOfTheWeek', 'TypeOfDay').distinct().orderBy('DayOfTheWeek').show()"
   ]
  },
  {
   "cell_type": "code",
   "execution_count": 66,
   "metadata": {},
   "outputs": [],
   "source": [
    "features_df = features_df.withColumn(\"Hour\", features_df.Hour.cast('string'))\n",
    "features_df = features_df.withColumn(\"DayOfTheWeek\", features_df.DayOfTheWeek.cast('string'))"
   ]
  },
  {
   "cell_type": "code",
   "execution_count": 26,
   "metadata": {},
   "outputs": [],
   "source": [
    "training_df2, validation_df2, testing_df2 = features_df.randomSplit([0.6, 0.3, 0.1], seed=0)"
   ]
  },
  {
   "cell_type": "markdown",
   "metadata": {},
   "source": [
    "**Random Forest (Without Encoding, with Hour_bin, TypeOfDay)**"
   ]
  },
  {
   "cell_type": "code",
   "execution_count": null,
   "metadata": {},
   "outputs": [],
   "source": [
    "new_model10 = Pipeline(stages=[feature.StringIndexer(inputCol='name', outputCol=\"name_index\", stringOrderType='alphabetAsc'),\n",
    "                               feature.StringIndexer(inputCol='TypeOfDay', outputCol=\"TypeOfDay_index\", stringOrderType='alphabetAsc'),\n",
    "                               feature.StringIndexer(inputCol='Hour_bin', outputCol=\"Hour_bin_index\", stringOrderType='alphabetAsc'),\n",
    "                               feature.StringIndexer(inputCol='destination', outputCol=\"destination_index\", stringOrderType='alphabetAsc'),\n",
    "                               feature.StringIndexer(inputCol='cab_type', outputCol=\"cab_type_index\", stringOrderType='alphabetAsc'),\n",
    "                               feature.OneHotEncoder(inputCol=\"name_index\", outputCol=\"name_feat\", dropLast=False),\n",
    "                               feature.OneHotEncoder(inputCol=\"TypeOfDay_index\", outputCol=\"TypeOfDay_feat\", dropLast=False),\n",
    "                               feature.OneHotEncoder(inputCol=\"Hour_bin_index\", outputCol=\"Hour_bin_feat\", dropLast=False),\n",
    "                               feature.OneHotEncoder(inputCol=\"destination_index\", outputCol=\"destination_feat\", dropLast=False),\n",
    "                               feature.OneHotEncoder(inputCol = 'cab_type_index', outputCol = 'cab_type_feat'),\n",
    "                               feature.VectorAssembler(inputCols=['distance','surge_multiplier','temp','clouds','pressure','rain','humidity','wind'],\n",
    "                                                     outputCol='numerical_features'),\n",
    "                               feature.StandardScaler(inputCol='numerical_features',outputCol='scaled_numerical_features'),\n",
    "                               feature.VectorAssembler(inputCols=['scaled_numerical_features', 'name_feat', 'TypeOfDay_feat', 'Hour_bin_feat', 'destination_feat', 'cab_type_feat'],\n",
    "                                                     outputCol='final_features')])"
   ]
  },
  {
   "cell_type": "code",
   "execution_count": null,
   "metadata": {},
   "outputs": [],
   "source": [
    "pipe_rf10 = Pipeline(stages=[new_model10, rf]).fit(training_df2)"
   ]
  },
  {
   "cell_type": "code",
   "execution_count": null,
   "metadata": {},
   "outputs": [],
   "source": [
    "RMSE10 = evaluator.evaluate(pipe_rf10.transform(validation_df2))\n",
    "print(\"RMSE of Model = \", RMSE10)"
   ]
  },
  {
   "cell_type": "code",
   "execution_count": null,
   "metadata": {},
   "outputs": [],
   "source": [
    "features10 = pipe_rf10.stages[0].stages[-3].getInputCols()\n",
    "for i in range(5):\n",
    "    for j in range(len(pipe_rf10.stages[0].stages[i].labels)):\n",
    "        col = pipe_rf10.stages[0].stages[i].getInputCol() + \"_\" + pipe_rf10.stages[0].stages[i].labels[j]\n",
    "        #col = col.replace(\" \", \"_\")\n",
    "        features10.append(col)"
   ]
  },
  {
   "cell_type": "code",
   "execution_count": null,
   "metadata": {
    "scrolled": true
   },
   "outputs": [],
   "source": [
    "pd.DataFrame(list(zip(features10, pipe_rf10.stages[-1].featureImportances.toArray())),\n",
    "            columns = ['features', 'importance']).sort_values('importance', ascending = False)"
   ]
  },
  {
   "cell_type": "markdown",
   "metadata": {},
   "source": [
    "**Weather**"
   ]
  },
  {
   "cell_type": "code",
   "execution_count": null,
   "metadata": {
    "scrolled": true
   },
   "outputs": [],
   "source": [
    "# using QuantileDiscretizer for bucketing weather attributes to create evenly distributed buckets\n",
    "features_df = feature.QuantileDiscretizer(numBuckets=4, inputCol = 'temp', outputCol = 'temp_bin').fit(features_df).transform(features_df)\n",
    "features_df = feature.QuantileDiscretizer(numBuckets=4, inputCol = 'clouds', outputCol = 'clouds_bin').fit(features_df).transform(features_df)\n",
    "features_df = feature.QuantileDiscretizer(numBuckets=4, inputCol = 'humidity', outputCol = 'humidity_bin').fit(features_df).transform(features_df)\n",
    "features_df = feature.QuantileDiscretizer(numBuckets=4, inputCol = 'wind', outputCol = 'wind_bin').fit(features_df).transform(features_df)\n",
    "features_df = feature.QuantileDiscretizer(numBuckets=2, inputCol = 'rain', outputCol = 'rain_bin').fit(features_df).transform(features_df)\n",
    "features_df = feature.QuantileDiscretizer(numBuckets=4, inputCol = 'pressure', outputCol = 'pressure_bin').fit(features_df).transform(features_df)"
   ]
  },
  {
   "cell_type": "code",
   "execution_count": null,
   "metadata": {},
   "outputs": [],
   "source": [
    "# type casting of quantile discretized attributes for string indexing\n",
    "features_df = features_df.withColumn(\"temp_bin\", features_df.Hour.cast('string'))\n",
    "features_df = features_df.withColumn(\"clouds_bin\", features_df.Hour.cast('string'))\n",
    "features_df = features_df.withColumn(\"humidity_bin\", features_df.Hour.cast('string'))\n",
    "features_df = features_df.withColumn(\"wind_bin\", features_df.Hour.cast('string'))\n",
    "features_df = features_df.withColumn(\"rain_bin\", features_df.Hour.cast('string'))\n",
    "features_df = features_df.withColumn(\"pressure_bin\", features_df.Hour.cast('string'))"
   ]
  },
  {
   "cell_type": "code",
   "execution_count": null,
   "metadata": {},
   "outputs": [],
   "source": [
    "training_df2, validation_df2, testing_df2 = features_df.randomSplit([0.6, 0.3, 0.1], seed=0)"
   ]
  },
  {
   "cell_type": "markdown",
   "metadata": {},
   "source": [
    "**Random Forest (With Encoding, with weather bins)**"
   ]
  },
  {
   "cell_type": "code",
   "execution_count": null,
   "metadata": {},
   "outputs": [],
   "source": [
    "new_model11 = Pipeline(stages=[feature.StringIndexer(inputCol='name', outputCol=\"name_index\",stringOrderType='alphabetAsc'),\n",
    "                             feature.StringIndexer(inputCol='cab_type', outputCol=\"cab_type_index\",stringOrderType='alphabetAsc'),\n",
    "                             feature.StringIndexer(inputCol='destination', outputCol=\"destination_index\",stringOrderType='alphabetAsc'),\n",
    "                             feature.StringIndexer(inputCol='temp_bin', outputCol=\"temp_bin_index\",stringOrderType='alphabetAsc'),\n",
    "                             feature.StringIndexer(inputCol='clouds_bin', outputCol=\"clouds_bin_index\",stringOrderType='alphabetAsc'),\n",
    "                             feature.StringIndexer(inputCol='humidity_bin', outputCol=\"humidity_bin_index\",stringOrderType='alphabetAsc'),\n",
    "                             feature.StringIndexer(inputCol='wind_bin', outputCol=\"wind_bin_index\",stringOrderType='alphabetAsc'),\n",
    "                             feature.StringIndexer(inputCol='rain_bin', outputCol=\"rain_bin_index\",stringOrderType='alphabetAsc'),\n",
    "                             feature.StringIndexer(inputCol='pressure_bin', outputCol=\"pressure_bin_index\",stringOrderType='alphabetAsc'),\n",
    "                             feature.VectorAssembler(inputCols=['distance','surge_multiplier', 'name_index', 'cab_type_index', 'destination_index', 'temp_bin_index', 'clouds_bin_index', 'pressure_bin_index', \n",
    "                                                               'humidity_bin_index', 'wind_bin_index', 'rain_bin_index'], \n",
    "                                                     outputCol='final_features')])"
   ]
  },
  {
   "cell_type": "code",
   "execution_count": null,
   "metadata": {},
   "outputs": [],
   "source": [
    "rf = regression.RandomForestRegressor(labelCol='price', featuresCol='final_features', maxDepth = 7, numTrees = 600)"
   ]
  },
  {
   "cell_type": "code",
   "execution_count": null,
   "metadata": {},
   "outputs": [],
   "source": [
    "pipe_rf11 = Pipeline(stages=[new_model11, rf]).fit(training_df2)"
   ]
  },
  {
   "cell_type": "code",
   "execution_count": null,
   "metadata": {},
   "outputs": [],
   "source": [
    "RMSE11 = evaluator.evaluate(pipe_rf11.transform(validation_df2))\n",
    "print(\"RMSE of Model = \", RMSE11)"
   ]
  },
  {
   "cell_type": "code",
   "execution_count": null,
   "metadata": {},
   "outputs": [],
   "source": [
    "# importance of feature engineered weather data on price\n",
    "features11 = pipe_rf11.stages[0].stages[-1].getInputCols()\n",
    "pd.DataFrame(list(zip(features11, pipe_rf11.stages[-1].featureImportances.toArray())),\n",
    "            columns = ['features', 'importance']).sort_values('importance', ascending = False)"
   ]
  },
  {
   "cell_type": "markdown",
   "metadata": {},
   "source": [
    "**Uber & Lyft model performance comparison**"
   ]
  },
  {
   "cell_type": "code",
   "execution_count": 28,
   "metadata": {},
   "outputs": [],
   "source": [
    "# creating dataframe with only cab type Uber\n",
    "uber_df = merged_df.filter(fn.col('cab_type') == 'Uber')"
   ]
  },
  {
   "cell_type": "code",
   "execution_count": 29,
   "metadata": {},
   "outputs": [
    {
     "data": {
      "text/plain": [
       "329140"
      ]
     },
     "execution_count": 29,
     "metadata": {},
     "output_type": "execute_result"
    }
   ],
   "source": [
    "uber_df.count()"
   ]
  },
  {
   "cell_type": "code",
   "execution_count": 30,
   "metadata": {},
   "outputs": [],
   "source": [
    "# creating dataframe with only cab type Lyft\n",
    "lyft_df = merged_df.filter(fn.col('cab_type') == 'Lyft')"
   ]
  },
  {
   "cell_type": "code",
   "execution_count": 31,
   "metadata": {},
   "outputs": [
    {
     "data": {
      "text/plain": [
       "306102"
      ]
     },
     "execution_count": 31,
     "metadata": {},
     "output_type": "execute_result"
    }
   ],
   "source": [
    "lyft_df.count()"
   ]
  },
  {
   "cell_type": "code",
   "execution_count": 32,
   "metadata": {},
   "outputs": [],
   "source": [
    "# creating training, testing and validation dataframe for Uber dataframe\n",
    "training_uber_df, validation_uber_df, testing_uber_df = uber_df.randomSplit([0.6, 0.3, 0.1], seed=0)"
   ]
  },
  {
   "cell_type": "code",
   "execution_count": 33,
   "metadata": {},
   "outputs": [],
   "source": [
    "# creating training, testing and validation dataframe for Lyft dataframe\n",
    "training_lyft_df, validation_lyft_df, testing_lyft_df = lyft_df.randomSplit([0.6, 0.3, 0.1], seed=0)"
   ]
  },
  {
   "cell_type": "code",
   "execution_count": 36,
   "metadata": {},
   "outputs": [],
   "source": [
    "# gradient boosting model with best parameters for Uber dataframe \n",
    "gb_uber = Pipeline(stages=[new_model,GBTRegressor(featuresCol=\"final_features\", maxDepth = 7, maxIter=30,labelCol=\"price\")]).fit(training_uber_df)"
   ]
  },
  {
   "cell_type": "code",
   "execution_count": 37,
   "metadata": {},
   "outputs": [
    {
     "data": {
      "text/plain": [
       "1.9207187480592922"
      ]
     },
     "execution_count": 37,
     "metadata": {},
     "output_type": "execute_result"
    }
   ],
   "source": [
    "# performance of best model on only Uber Data\n",
    "gb_uber_rmse = evaluator.evaluate(gb_uber.transform(validation_uber_df))\n",
    "gb_uber_rmse"
   ]
  },
  {
   "cell_type": "code",
   "execution_count": 38,
   "metadata": {},
   "outputs": [],
   "source": [
    "# gradient boosting model with best parameters for Lyft dataframe\n",
    "gb_lyft = Pipeline(stages=[new_model,GBTRegressor(featuresCol=\"final_features\", maxDepth = 7, maxIter=30,labelCol=\"price\")]).fit(training_lyft_df)"
   ]
  },
  {
   "cell_type": "code",
   "execution_count": 39,
   "metadata": {},
   "outputs": [
    {
     "data": {
      "text/plain": [
       "1.4626069056242934"
      ]
     },
     "execution_count": 39,
     "metadata": {},
     "output_type": "execute_result"
    }
   ],
   "source": [
    "# performance of best model on only Lyft Data\n",
    "gb_lyft_rmse = evaluator.evaluate(gb_lyft.transform(validation_lyft_df))\n",
    "gb_lyft_rmse"
   ]
  },
  {
   "cell_type": "markdown",
   "metadata": {},
   "source": [
    "**Comparison between General, Uber, Lyft Performance**"
   ]
  },
  {
   "cell_type": "code",
   "execution_count": 42,
   "metadata": {},
   "outputs": [],
   "source": [
    "plot_rmse = [gb_rmse3, gb_uber_rmse, gb_lyft_rmse]"
   ]
  },
  {
   "cell_type": "code",
   "execution_count": 65,
   "metadata": {},
   "outputs": [],
   "source": [
    "plot_rmse = pd.DataFrame(list(zip(['General', 'Uber', 'Lyft'], [gb_rmse3, gb_uber_rmse, gb_lyft_rmse])), columns = ['Model', 'RMSE'])"
   ]
  },
  {
   "cell_type": "code",
   "execution_count": 66,
   "metadata": {},
   "outputs": [
    {
     "data": {
      "text/plain": [
       "0    General\n",
       "1       Uber\n",
       "2       Lyft\n",
       "Name: Model, dtype: object"
      ]
     },
     "execution_count": 66,
     "metadata": {},
     "output_type": "execute_result"
    }
   ],
   "source": [
    "plot_rmse.Model"
   ]
  },
  {
   "cell_type": "code",
   "execution_count": 200,
   "metadata": {},
   "outputs": [
    {
     "data": {
      "image/png": "[encoded data removed]",
      "text/plain": [
       "<Figure size 432x288 with 1 Axes>"
      ]
     },
     "metadata": {
      "needs_background": "light"
     },
     "output_type": "display_data"
    }
   ],
   "source": [
    "plt.bar(plot_rmse.Model, plot_rmse.RMSE, width = 0.3, color = ['teal', 'black', 'fuchsia'])\n",
    "plt.xlabel('Cab Type', fontsize = 13)\n",
    "plt.ylabel('Model Performance (RMSE)', fontsize = 13)\n",
    "plt.title('Model Performance for Uber & Lyft', fontsize = 15)\n",
    "x_coord = [0, 1, 2]\n",
    "for i in range(len(plot_rmse.RMSE)):\n",
    "    plt.text(x = x_coord[i], y = plot_rmse.RMSE[i], s = round(plot_rmse.RMSE[i], 2), horizontalalignment='center', verticalalignment='bottom', fontsize = 12)\n",
    "plt.tight_layout()\n",
    "plt.ylim(0, 2.25)\n",
    "plt.savefig('Model Performance for Uber & Lyft')"
   ]
  },
  {
   "cell_type": "markdown",
   "metadata": {},
   "source": [
    "**Feature Importance Graph**"
   ]
  },
  {
   "cell_type": "markdown",
   "metadata": {},
   "source": [
    "Using signs from feature importance of elastic net regularization model to indicate the direction in which the features affect the price. \n",
    "At the same time using feature importance values from the best random forest model."
   ]
  },
  {
   "cell_type": "code",
   "execution_count": 52,
   "metadata": {},
   "outputs": [],
   "source": [
    "features_sign = pd.DataFrame(list(zip(feature_reg, best_model_LR.stages[-1].coefficients.toArray())),\n",
    "            columns = ['features', 'weights']).sort_values('weights', ascending = False)"
   ]
  },
  {
   "cell_type": "code",
   "execution_count": 53,
   "metadata": {},
   "outputs": [
    {
     "data": {
      "text/html": [
       "<div>\n",
       "<style scoped>\n",
       "    .dataframe tbody tr th:only-of-type {\n",
       "        vertical-align: middle;\n",
       "    }\n",
       "\n",
       "    .dataframe tbody tr th {\n",
       "        vertical-align: top;\n",
       "    }\n",
       "\n",
       "    .dataframe thead th {\n",
       "        text-align: right;\n",
       "    }\n",
       "</style>\n",
       "<table border=\"1\" class=\"dataframe\">\n",
       "  <thead>\n",
       "    <tr style=\"text-align: right;\">\n",
       "      <th></th>\n",
       "      <th>features</th>\n",
       "      <th>weights</th>\n",
       "      <th>sign</th>\n",
       "    </tr>\n",
       "  </thead>\n",
       "  <tbody>\n",
       "    <tr>\n",
       "      <th>12</th>\n",
       "      <td>name_Lux Black XL</td>\n",
       "      <td>15.802992</td>\n",
       "      <td>1.0</td>\n",
       "    </tr>\n",
       "    <tr>\n",
       "      <th>9</th>\n",
       "      <td>name_Black SUV</td>\n",
       "      <td>14.438882</td>\n",
       "      <td>1.0</td>\n",
       "    </tr>\n",
       "    <tr>\n",
       "      <th>11</th>\n",
       "      <td>name_Lux Black</td>\n",
       "      <td>6.614424</td>\n",
       "      <td>1.0</td>\n",
       "    </tr>\n",
       "    <tr>\n",
       "      <th>8</th>\n",
       "      <td>name_Black</td>\n",
       "      <td>4.750990</td>\n",
       "      <td>1.0</td>\n",
       "    </tr>\n",
       "    <tr>\n",
       "      <th>0</th>\n",
       "      <td>distance</td>\n",
       "      <td>3.125276</td>\n",
       "      <td>1.0</td>\n",
       "    </tr>\n",
       "    <tr>\n",
       "      <th>1</th>\n",
       "      <td>surge_multiplier</td>\n",
       "      <td>1.719672</td>\n",
       "      <td>1.0</td>\n",
       "    </tr>\n",
       "    <tr>\n",
       "      <th>10</th>\n",
       "      <td>name_Lux</td>\n",
       "      <td>1.364799</td>\n",
       "      <td>1.0</td>\n",
       "    </tr>\n",
       "    <tr>\n",
       "      <th>57</th>\n",
       "      <td>destination_Financial District</td>\n",
       "      <td>0.338748</td>\n",
       "      <td>1.0</td>\n",
       "    </tr>\n",
       "    <tr>\n",
       "      <th>63</th>\n",
       "      <td>destination_Theatre District</td>\n",
       "      <td>0.094743</td>\n",
       "      <td>1.0</td>\n",
       "    </tr>\n",
       "    <tr>\n",
       "      <th>60</th>\n",
       "      <td>destination_North Station</td>\n",
       "      <td>0.090324</td>\n",
       "      <td>1.0</td>\n",
       "    </tr>\n",
       "    <tr>\n",
       "      <th>55</th>\n",
       "      <td>destination_Boston University</td>\n",
       "      <td>0.006915</td>\n",
       "      <td>1.0</td>\n",
       "    </tr>\n",
       "    <tr>\n",
       "      <th>37</th>\n",
       "      <td>Hour_10</td>\n",
       "      <td>0.000000</td>\n",
       "      <td>1.0</td>\n",
       "    </tr>\n",
       "    <tr>\n",
       "      <th>36</th>\n",
       "      <td>Hour_09</td>\n",
       "      <td>0.000000</td>\n",
       "      <td>1.0</td>\n",
       "    </tr>\n",
       "    <tr>\n",
       "      <th>45</th>\n",
       "      <td>Hour_18</td>\n",
       "      <td>0.000000</td>\n",
       "      <td>1.0</td>\n",
       "    </tr>\n",
       "    <tr>\n",
       "      <th>38</th>\n",
       "      <td>Hour_11</td>\n",
       "      <td>0.000000</td>\n",
       "      <td>1.0</td>\n",
       "    </tr>\n",
       "    <tr>\n",
       "      <th>39</th>\n",
       "      <td>Hour_12</td>\n",
       "      <td>0.000000</td>\n",
       "      <td>1.0</td>\n",
       "    </tr>\n",
       "    <tr>\n",
       "      <th>40</th>\n",
       "      <td>Hour_13</td>\n",
       "      <td>0.000000</td>\n",
       "      <td>1.0</td>\n",
       "    </tr>\n",
       "    <tr>\n",
       "      <th>41</th>\n",
       "      <td>Hour_14</td>\n",
       "      <td>0.000000</td>\n",
       "      <td>1.0</td>\n",
       "    </tr>\n",
       "    <tr>\n",
       "      <th>42</th>\n",
       "      <td>Hour_15</td>\n",
       "      <td>0.000000</td>\n",
       "      <td>1.0</td>\n",
       "    </tr>\n",
       "    <tr>\n",
       "      <th>43</th>\n",
       "      <td>Hour_16</td>\n",
       "      <td>0.000000</td>\n",
       "      <td>1.0</td>\n",
       "    </tr>\n",
       "    <tr>\n",
       "      <th>44</th>\n",
       "      <td>Hour_17</td>\n",
       "      <td>0.000000</td>\n",
       "      <td>1.0</td>\n",
       "    </tr>\n",
       "    <tr>\n",
       "      <th>50</th>\n",
       "      <td>Hour_23</td>\n",
       "      <td>0.000000</td>\n",
       "      <td>1.0</td>\n",
       "    </tr>\n",
       "    <tr>\n",
       "      <th>46</th>\n",
       "      <td>Hour_19</td>\n",
       "      <td>0.000000</td>\n",
       "      <td>1.0</td>\n",
       "    </tr>\n",
       "    <tr>\n",
       "      <th>47</th>\n",
       "      <td>Hour_20</td>\n",
       "      <td>0.000000</td>\n",
       "      <td>1.0</td>\n",
       "    </tr>\n",
       "    <tr>\n",
       "      <th>48</th>\n",
       "      <td>Hour_21</td>\n",
       "      <td>0.000000</td>\n",
       "      <td>1.0</td>\n",
       "    </tr>\n",
       "    <tr>\n",
       "      <th>49</th>\n",
       "      <td>Hour_22</td>\n",
       "      <td>0.000000</td>\n",
       "      <td>1.0</td>\n",
       "    </tr>\n",
       "    <tr>\n",
       "      <th>34</th>\n",
       "      <td>Hour_07</td>\n",
       "      <td>0.000000</td>\n",
       "      <td>1.0</td>\n",
       "    </tr>\n",
       "    <tr>\n",
       "      <th>51</th>\n",
       "      <td>cab_type_Lyft</td>\n",
       "      <td>0.000000</td>\n",
       "      <td>1.0</td>\n",
       "    </tr>\n",
       "    <tr>\n",
       "      <th>52</th>\n",
       "      <td>cab_type_Uber</td>\n",
       "      <td>0.000000</td>\n",
       "      <td>1.0</td>\n",
       "    </tr>\n",
       "    <tr>\n",
       "      <th>53</th>\n",
       "      <td>destination_Back Bay</td>\n",
       "      <td>0.000000</td>\n",
       "      <td>1.0</td>\n",
       "    </tr>\n",
       "    <tr>\n",
       "      <th>...</th>\n",
       "      <td>...</td>\n",
       "      <td>...</td>\n",
       "      <td>...</td>\n",
       "    </tr>\n",
       "    <tr>\n",
       "      <th>33</th>\n",
       "      <td>Hour_06</td>\n",
       "      <td>0.000000</td>\n",
       "      <td>1.0</td>\n",
       "    </tr>\n",
       "    <tr>\n",
       "      <th>7</th>\n",
       "      <td>wind</td>\n",
       "      <td>0.000000</td>\n",
       "      <td>1.0</td>\n",
       "    </tr>\n",
       "    <tr>\n",
       "      <th>5</th>\n",
       "      <td>rain</td>\n",
       "      <td>0.000000</td>\n",
       "      <td>1.0</td>\n",
       "    </tr>\n",
       "    <tr>\n",
       "      <th>4</th>\n",
       "      <td>pressure</td>\n",
       "      <td>0.000000</td>\n",
       "      <td>1.0</td>\n",
       "    </tr>\n",
       "    <tr>\n",
       "      <th>3</th>\n",
       "      <td>clouds</td>\n",
       "      <td>0.000000</td>\n",
       "      <td>1.0</td>\n",
       "    </tr>\n",
       "    <tr>\n",
       "      <th>31</th>\n",
       "      <td>Hour_04</td>\n",
       "      <td>0.000000</td>\n",
       "      <td>1.0</td>\n",
       "    </tr>\n",
       "    <tr>\n",
       "      <th>18</th>\n",
       "      <td>name_UberXL</td>\n",
       "      <td>0.000000</td>\n",
       "      <td>1.0</td>\n",
       "    </tr>\n",
       "    <tr>\n",
       "      <th>2</th>\n",
       "      <td>temp</td>\n",
       "      <td>0.000000</td>\n",
       "      <td>1.0</td>\n",
       "    </tr>\n",
       "    <tr>\n",
       "      <th>20</th>\n",
       "      <td>DayOfTheWeek_1</td>\n",
       "      <td>0.000000</td>\n",
       "      <td>1.0</td>\n",
       "    </tr>\n",
       "    <tr>\n",
       "      <th>21</th>\n",
       "      <td>DayOfTheWeek_2</td>\n",
       "      <td>0.000000</td>\n",
       "      <td>1.0</td>\n",
       "    </tr>\n",
       "    <tr>\n",
       "      <th>22</th>\n",
       "      <td>DayOfTheWeek_3</td>\n",
       "      <td>0.000000</td>\n",
       "      <td>1.0</td>\n",
       "    </tr>\n",
       "    <tr>\n",
       "      <th>23</th>\n",
       "      <td>DayOfTheWeek_4</td>\n",
       "      <td>0.000000</td>\n",
       "      <td>1.0</td>\n",
       "    </tr>\n",
       "    <tr>\n",
       "      <th>24</th>\n",
       "      <td>DayOfTheWeek_5</td>\n",
       "      <td>0.000000</td>\n",
       "      <td>1.0</td>\n",
       "    </tr>\n",
       "    <tr>\n",
       "      <th>25</th>\n",
       "      <td>DayOfTheWeek_6</td>\n",
       "      <td>0.000000</td>\n",
       "      <td>1.0</td>\n",
       "    </tr>\n",
       "    <tr>\n",
       "      <th>26</th>\n",
       "      <td>DayOfTheWeek_7</td>\n",
       "      <td>0.000000</td>\n",
       "      <td>1.0</td>\n",
       "    </tr>\n",
       "    <tr>\n",
       "      <th>27</th>\n",
       "      <td>Hour_00</td>\n",
       "      <td>0.000000</td>\n",
       "      <td>1.0</td>\n",
       "    </tr>\n",
       "    <tr>\n",
       "      <th>28</th>\n",
       "      <td>Hour_01</td>\n",
       "      <td>0.000000</td>\n",
       "      <td>1.0</td>\n",
       "    </tr>\n",
       "    <tr>\n",
       "      <th>29</th>\n",
       "      <td>Hour_02</td>\n",
       "      <td>0.000000</td>\n",
       "      <td>1.0</td>\n",
       "    </tr>\n",
       "    <tr>\n",
       "      <th>30</th>\n",
       "      <td>Hour_03</td>\n",
       "      <td>0.000000</td>\n",
       "      <td>1.0</td>\n",
       "    </tr>\n",
       "    <tr>\n",
       "      <th>6</th>\n",
       "      <td>humidity</td>\n",
       "      <td>0.000000</td>\n",
       "      <td>1.0</td>\n",
       "    </tr>\n",
       "    <tr>\n",
       "      <th>64</th>\n",
       "      <td>destination_West End</td>\n",
       "      <td>-0.035758</td>\n",
       "      <td>-1.0</td>\n",
       "    </tr>\n",
       "    <tr>\n",
       "      <th>62</th>\n",
       "      <td>destination_South Station</td>\n",
       "      <td>-0.070692</td>\n",
       "      <td>-1.0</td>\n",
       "    </tr>\n",
       "    <tr>\n",
       "      <th>56</th>\n",
       "      <td>destination_Fenway</td>\n",
       "      <td>-0.205640</td>\n",
       "      <td>-1.0</td>\n",
       "    </tr>\n",
       "    <tr>\n",
       "      <th>54</th>\n",
       "      <td>destination_Beacon Hill</td>\n",
       "      <td>-0.271473</td>\n",
       "      <td>-1.0</td>\n",
       "    </tr>\n",
       "    <tr>\n",
       "      <th>14</th>\n",
       "      <td>name_Lyft XL</td>\n",
       "      <td>-0.958700</td>\n",
       "      <td>-1.0</td>\n",
       "    </tr>\n",
       "    <tr>\n",
       "      <th>17</th>\n",
       "      <td>name_UberX</td>\n",
       "      <td>-5.792427</td>\n",
       "      <td>-1.0</td>\n",
       "    </tr>\n",
       "    <tr>\n",
       "      <th>19</th>\n",
       "      <td>name_WAV</td>\n",
       "      <td>-5.793463</td>\n",
       "      <td>-1.0</td>\n",
       "    </tr>\n",
       "    <tr>\n",
       "      <th>13</th>\n",
       "      <td>name_Lyft</td>\n",
       "      <td>-6.611573</td>\n",
       "      <td>-1.0</td>\n",
       "    </tr>\n",
       "    <tr>\n",
       "      <th>16</th>\n",
       "      <td>name_UberPool</td>\n",
       "      <td>-6.798085</td>\n",
       "      <td>-1.0</td>\n",
       "    </tr>\n",
       "    <tr>\n",
       "      <th>15</th>\n",
       "      <td>name_Shared</td>\n",
       "      <td>-9.483870</td>\n",
       "      <td>-1.0</td>\n",
       "    </tr>\n",
       "  </tbody>\n",
       "</table>\n",
       "<p>65 rows × 3 columns</p>\n",
       "</div>"
      ],
      "text/plain": [
       "                          features    weights  sign\n",
       "12               name_Lux Black XL  15.802992   1.0\n",
       "9                   name_Black SUV  14.438882   1.0\n",
       "11                  name_Lux Black   6.614424   1.0\n",
       "8                       name_Black   4.750990   1.0\n",
       "0                         distance   3.125276   1.0\n",
       "1                 surge_multiplier   1.719672   1.0\n",
       "10                        name_Lux   1.364799   1.0\n",
       "57  destination_Financial District   0.338748   1.0\n",
       "63    destination_Theatre District   0.094743   1.0\n",
       "60       destination_North Station   0.090324   1.0\n",
       "55   destination_Boston University   0.006915   1.0\n",
       "37                         Hour_10   0.000000   1.0\n",
       "36                         Hour_09   0.000000   1.0\n",
       "45                         Hour_18   0.000000   1.0\n",
       "38                         Hour_11   0.000000   1.0\n",
       "39                         Hour_12   0.000000   1.0\n",
       "40                         Hour_13   0.000000   1.0\n",
       "41                         Hour_14   0.000000   1.0\n",
       "42                         Hour_15   0.000000   1.0\n",
       "43                         Hour_16   0.000000   1.0\n",
       "44                         Hour_17   0.000000   1.0\n",
       "50                         Hour_23   0.000000   1.0\n",
       "46                         Hour_19   0.000000   1.0\n",
       "47                         Hour_20   0.000000   1.0\n",
       "48                         Hour_21   0.000000   1.0\n",
       "49                         Hour_22   0.000000   1.0\n",
       "34                         Hour_07   0.000000   1.0\n",
       "51                   cab_type_Lyft   0.000000   1.0\n",
       "52                   cab_type_Uber   0.000000   1.0\n",
       "53            destination_Back Bay   0.000000   1.0\n",
       "..                             ...        ...   ...\n",
       "33                         Hour_06   0.000000   1.0\n",
       "7                             wind   0.000000   1.0\n",
       "5                             rain   0.000000   1.0\n",
       "4                         pressure   0.000000   1.0\n",
       "3                           clouds   0.000000   1.0\n",
       "31                         Hour_04   0.000000   1.0\n",
       "18                     name_UberXL   0.000000   1.0\n",
       "2                             temp   0.000000   1.0\n",
       "20                  DayOfTheWeek_1   0.000000   1.0\n",
       "21                  DayOfTheWeek_2   0.000000   1.0\n",
       "22                  DayOfTheWeek_3   0.000000   1.0\n",
       "23                  DayOfTheWeek_4   0.000000   1.0\n",
       "24                  DayOfTheWeek_5   0.000000   1.0\n",
       "25                  DayOfTheWeek_6   0.000000   1.0\n",
       "26                  DayOfTheWeek_7   0.000000   1.0\n",
       "27                         Hour_00   0.000000   1.0\n",
       "28                         Hour_01   0.000000   1.0\n",
       "29                         Hour_02   0.000000   1.0\n",
       "30                         Hour_03   0.000000   1.0\n",
       "6                         humidity   0.000000   1.0\n",
       "64            destination_West End  -0.035758  -1.0\n",
       "62       destination_South Station  -0.070692  -1.0\n",
       "56              destination_Fenway  -0.205640  -1.0\n",
       "54         destination_Beacon Hill  -0.271473  -1.0\n",
       "14                    name_Lyft XL  -0.958700  -1.0\n",
       "17                      name_UberX  -5.792427  -1.0\n",
       "19                        name_WAV  -5.793463  -1.0\n",
       "13                       name_Lyft  -6.611573  -1.0\n",
       "16                   name_UberPool  -6.798085  -1.0\n",
       "15                     name_Shared  -9.483870  -1.0\n",
       "\n",
       "[65 rows x 3 columns]"
      ]
     },
     "execution_count": 53,
     "metadata": {},
     "output_type": "execute_result"
    }
   ],
   "source": [
    "features_sign.loc[features_sign.weights < 0, \"sign\"] = -1\n",
    "features_sign.loc[features_sign.weights >= 0, \"sign\"] = 1\n",
    "features_sign"
   ]
  },
  {
   "cell_type": "code",
   "execution_count": 54,
   "metadata": {},
   "outputs": [],
   "source": [
    "feature_importance = pd.DataFrame(list(zip(features_all, pipe_rf5.stages[-1].featureImportances.toArray())),\n",
    "            columns = ['features', 'importance']).sort_values('importance', ascending = False)"
   ]
  },
  {
   "cell_type": "code",
   "execution_count": 55,
   "metadata": {},
   "outputs": [],
   "source": [
    "feature_importance = feature_importance.merge(features_sign, on='features')"
   ]
  },
  {
   "cell_type": "code",
   "execution_count": 56,
   "metadata": {},
   "outputs": [],
   "source": [
    "feature_importance[\"feature_imp\"] = feature_importance.importance * feature_importance.sign\n",
    "feature_importance = feature_importance.iloc[:18,]"
   ]
  },
  {
   "cell_type": "code",
   "execution_count": 57,
   "metadata": {},
   "outputs": [
    {
     "data": {
      "text/html": [
       "<div>\n",
       "<style scoped>\n",
       "    .dataframe tbody tr th:only-of-type {\n",
       "        vertical-align: middle;\n",
       "    }\n",
       "\n",
       "    .dataframe tbody tr th {\n",
       "        vertical-align: top;\n",
       "    }\n",
       "\n",
       "    .dataframe thead th {\n",
       "        text-align: right;\n",
       "    }\n",
       "</style>\n",
       "<table border=\"1\" class=\"dataframe\">\n",
       "  <thead>\n",
       "    <tr style=\"text-align: right;\">\n",
       "      <th></th>\n",
       "      <th>importance</th>\n",
       "      <th>weights</th>\n",
       "      <th>sign</th>\n",
       "      <th>feature_imp</th>\n",
       "    </tr>\n",
       "    <tr>\n",
       "      <th>features</th>\n",
       "      <th></th>\n",
       "      <th></th>\n",
       "      <th></th>\n",
       "      <th></th>\n",
       "    </tr>\n",
       "  </thead>\n",
       "  <tbody>\n",
       "    <tr>\n",
       "      <th>name_Shared</th>\n",
       "      <td>0.087586</td>\n",
       "      <td>-9.483870</td>\n",
       "      <td>-1.0</td>\n",
       "      <td>-0.087586</td>\n",
       "    </tr>\n",
       "    <tr>\n",
       "      <th>name_UberPool</th>\n",
       "      <td>0.033198</td>\n",
       "      <td>-6.798085</td>\n",
       "      <td>-1.0</td>\n",
       "      <td>-0.033198</td>\n",
       "    </tr>\n",
       "    <tr>\n",
       "      <th>name_Lyft</th>\n",
       "      <td>0.022261</td>\n",
       "      <td>-6.611573</td>\n",
       "      <td>-1.0</td>\n",
       "      <td>-0.022261</td>\n",
       "    </tr>\n",
       "    <tr>\n",
       "      <th>name_UberX</th>\n",
       "      <td>0.019978</td>\n",
       "      <td>-5.792427</td>\n",
       "      <td>-1.0</td>\n",
       "      <td>-0.019978</td>\n",
       "    </tr>\n",
       "    <tr>\n",
       "      <th>name_WAV</th>\n",
       "      <td>0.017339</td>\n",
       "      <td>-5.793463</td>\n",
       "      <td>-1.0</td>\n",
       "      <td>-0.017339</td>\n",
       "    </tr>\n",
       "    <tr>\n",
       "      <th>name_Lyft XL</th>\n",
       "      <td>0.002316</td>\n",
       "      <td>-0.958700</td>\n",
       "      <td>-1.0</td>\n",
       "      <td>-0.002316</td>\n",
       "    </tr>\n",
       "    <tr>\n",
       "      <th>destination_Boston University</th>\n",
       "      <td>0.001259</td>\n",
       "      <td>0.006915</td>\n",
       "      <td>1.0</td>\n",
       "      <td>0.001259</td>\n",
       "    </tr>\n",
       "    <tr>\n",
       "      <th>destination_Financial District</th>\n",
       "      <td>0.002076</td>\n",
       "      <td>0.338748</td>\n",
       "      <td>1.0</td>\n",
       "      <td>0.002076</td>\n",
       "    </tr>\n",
       "    <tr>\n",
       "      <th>name_UberXL</th>\n",
       "      <td>0.003799</td>\n",
       "      <td>0.000000</td>\n",
       "      <td>1.0</td>\n",
       "      <td>0.003799</td>\n",
       "    </tr>\n",
       "    <tr>\n",
       "      <th>name_Lux</th>\n",
       "      <td>0.008783</td>\n",
       "      <td>1.364799</td>\n",
       "      <td>1.0</td>\n",
       "      <td>0.008783</td>\n",
       "    </tr>\n",
       "    <tr>\n",
       "      <th>cab_type_Lyft</th>\n",
       "      <td>0.009415</td>\n",
       "      <td>0.000000</td>\n",
       "      <td>1.0</td>\n",
       "      <td>0.009415</td>\n",
       "    </tr>\n",
       "    <tr>\n",
       "      <th>cab_type_Uber</th>\n",
       "      <td>0.009762</td>\n",
       "      <td>0.000000</td>\n",
       "      <td>1.0</td>\n",
       "      <td>0.009762</td>\n",
       "    </tr>\n",
       "    <tr>\n",
       "      <th>surge_multiplier</th>\n",
       "      <td>0.032950</td>\n",
       "      <td>1.719672</td>\n",
       "      <td>1.0</td>\n",
       "      <td>0.032950</td>\n",
       "    </tr>\n",
       "    <tr>\n",
       "      <th>name_Black</th>\n",
       "      <td>0.037390</td>\n",
       "      <td>4.750990</td>\n",
       "      <td>1.0</td>\n",
       "      <td>0.037390</td>\n",
       "    </tr>\n",
       "    <tr>\n",
       "      <th>name_Lux Black</th>\n",
       "      <td>0.063191</td>\n",
       "      <td>6.614424</td>\n",
       "      <td>1.0</td>\n",
       "      <td>0.063191</td>\n",
       "    </tr>\n",
       "    <tr>\n",
       "      <th>distance</th>\n",
       "      <td>0.101268</td>\n",
       "      <td>3.125276</td>\n",
       "      <td>1.0</td>\n",
       "      <td>0.101268</td>\n",
       "    </tr>\n",
       "    <tr>\n",
       "      <th>name_Black SUV</th>\n",
       "      <td>0.245763</td>\n",
       "      <td>14.438882</td>\n",
       "      <td>1.0</td>\n",
       "      <td>0.245763</td>\n",
       "    </tr>\n",
       "    <tr>\n",
       "      <th>name_Lux Black XL</th>\n",
       "      <td>0.298925</td>\n",
       "      <td>15.802992</td>\n",
       "      <td>1.0</td>\n",
       "      <td>0.298925</td>\n",
       "    </tr>\n",
       "  </tbody>\n",
       "</table>\n",
       "</div>"
      ],
      "text/plain": [
       "                                importance    weights  sign  feature_imp\n",
       "features                                                                \n",
       "name_Shared                       0.087586  -9.483870  -1.0    -0.087586\n",
       "name_UberPool                     0.033198  -6.798085  -1.0    -0.033198\n",
       "name_Lyft                         0.022261  -6.611573  -1.0    -0.022261\n",
       "name_UberX                        0.019978  -5.792427  -1.0    -0.019978\n",
       "name_WAV                          0.017339  -5.793463  -1.0    -0.017339\n",
       "name_Lyft XL                      0.002316  -0.958700  -1.0    -0.002316\n",
       "destination_Boston University     0.001259   0.006915   1.0     0.001259\n",
       "destination_Financial District    0.002076   0.338748   1.0     0.002076\n",
       "name_UberXL                       0.003799   0.000000   1.0     0.003799\n",
       "name_Lux                          0.008783   1.364799   1.0     0.008783\n",
       "cab_type_Lyft                     0.009415   0.000000   1.0     0.009415\n",
       "cab_type_Uber                     0.009762   0.000000   1.0     0.009762\n",
       "surge_multiplier                  0.032950   1.719672   1.0     0.032950\n",
       "name_Black                        0.037390   4.750990   1.0     0.037390\n",
       "name_Lux Black                    0.063191   6.614424   1.0     0.063191\n",
       "distance                          0.101268   3.125276   1.0     0.101268\n",
       "name_Black SUV                    0.245763  14.438882   1.0     0.245763\n",
       "name_Lux Black XL                 0.298925  15.802992   1.0     0.298925"
      ]
     },
     "execution_count": 57,
     "metadata": {},
     "output_type": "execute_result"
    }
   ],
   "source": [
    "feature_importance.set_index(\"features\", inplace = True)\n",
    "feature_importance.sort_values(\"feature_imp\", inplace = True)\n",
    "feature_importance"
   ]
  },
  {
   "cell_type": "code",
   "execution_count": 58,
   "metadata": {},
   "outputs": [
    {
     "data": {
      "image/png": "[encoded data removed]",
      "text/plain": [
       "<Figure size 432x288 with 1 Axes>"
      ]
     },
     "metadata": {
      "needs_background": "light"
     },
     "output_type": "display_data"
    }
   ],
   "source": [
    "feature_importance['feature_imp'].plot(kind = 'barh', title = 'Feature Importance')\n",
    "plt.xlabel(\"Importance\")\n",
    "plt.ylabel(\"Features\")\n",
    "plt.tight_layout()\n",
    "plt.savefig('FI_1', dpi = 400)"
   ]
  },
  {
   "cell_type": "markdown",
   "metadata": {},
   "source": [
    "**Testing One Line Prediction for best model - gradient boosting**"
   ]
  },
  {
   "cell_type": "code",
   "execution_count": 65,
   "metadata": {},
   "outputs": [
    {
     "name": "stdout",
     "output_type": "stream",
     "text": [
      "+---------------+\n",
      "|Predicted Price|\n",
      "+---------------+\n",
      "|          10.79|\n",
      "+---------------+\n",
      "\n"
     ]
    }
   ],
   "source": [
    "testing_df = spark.createDataFrame([(4.5, 1, 'Uber', 'UberPool', 'Financial District','3','21',40.3,9.81,1,991.93,0,0.67)], ['distance', 'surge_multiplier', 'cab_type', 'name', 'destination','DayOfTheWeek','Hour','temp','wind','clouds','pressure','rain','humidity'])\n",
    "predict_test = best_model.transform(testing_df)\n",
    "predict_test.select(fn.round(\"prediction\", 2).alias('Predicted Price')).show()"
   ]
  },
  {
   "cell_type": "code",
   "execution_count": 66,
   "metadata": {},
   "outputs": [
    {
     "name": "stdout",
     "output_type": "stream",
     "text": [
      "+---------------+\n",
      "|Predicted Price|\n",
      "+---------------+\n",
      "|          45.81|\n",
      "+---------------+\n",
      "\n"
     ]
    }
   ],
   "source": [
    "testing_df = spark.createDataFrame([(5, 1, 'Lyft', 'Lux Black XL', 'Boston University')], ['distance', 'surge_multiplier', 'cab_type', 'name', 'destination'])\n",
    "predict_test = best_model.transform(testing_df)\n",
    "predict_test.select(fn.round(\"prediction\", 2).alias('Predicted Price')).show()"
   ]
  },
  {
   "cell_type": "code",
   "execution_count": 67,
   "metadata": {},
   "outputs": [],
   "source": [
    "price_df = merged_df.select('price').toPandas()"
   ]
  },
  {
   "cell_type": "code",
   "execution_count": 68,
   "metadata": {},
   "outputs": [
    {
     "name": "stderr",
     "output_type": "stream",
     "text": [
      "/opt/conda/lib/python3.6/site-packages/scipy/stats/stats.py:1713: FutureWarning: Using a non-tuple sequence for multidimensional indexing is deprecated; use `arr[tuple(seq)]` instead of `arr[seq]`. In the future this will be interpreted as an array index, `arr[np.array(seq)]`, which will result either in an error or a different result.\n",
      "  return np.add.reduce(sorted[indexer] * weights, axis=axis) / sumval\n"
     ]
    },
    {
     "data": {
      "image/png": "[encoded data removed]",
      "text/plain": [
       "<Figure size 432x288 with 1 Axes>"
      ]
     },
     "metadata": {
      "needs_background": "light"
     },
     "output_type": "display_data"
    }
   ],
   "source": [
    "sns.distplot(price_df.price , color=\"dodgerblue\")\n",
    "plt.xlabel(\"price in USD($)\")\n",
    "plt.ylabel(\"Density\")\n",
    "plt.title(\"Distribution of Price\") \n",
    "plt.savefig(\"Densityplot\",dpi=300)"
   ]
  },
  {
   "cell_type": "markdown",
   "metadata": {},
   "source": [
    "Density plot on the poster for Price Column"
   ]
  },
  {
   "cell_type": "code",
   "execution_count": 85,
   "metadata": {},
   "outputs": [],
   "source": [
    "plot_rmse1 = [classic_rmse, lr_1_rmse, regularized_rmse, RMSE, gb_rmse3]"
   ]
  },
  {
   "cell_type": "code",
   "execution_count": 86,
   "metadata": {},
   "outputs": [],
   "source": [
    "plot_rmse1 = pd.DataFrame(list(zip(['Classic Linear Regression', 'Linear Regression', 'Regularized Regression','Random Forest','Gradient Boosting'], [classic_rmse, lr_1_rmse, regularized_rmse, RMSE, gb_rmse3])), columns = ['Model', 'RMSE'])"
   ]
  },
  {
   "cell_type": "code",
   "execution_count": 87,
   "metadata": {},
   "outputs": [
    {
     "data": {
      "image/png": "[encoded data removed]",
      "text/plain": [
       "<Figure size 432x288 with 1 Axes>"
      ]
     },
     "metadata": {
      "needs_background": "light"
     },
     "output_type": "display_data"
    }
   ],
   "source": [
    "from textwrap import wrap\n",
    "\n",
    "labels = plot_rmse1.Model\n",
    "labels = ['\\n'.join(wrap(l,l.find(\" \"))) for l in labels]\n",
    "\n",
    "bar1 = plt.bar(labels, plot_rmse1.RMSE, width = 0.7, color = ['#e0cae8', '#cba6d8', '#b683c9', '#a25fba', '#8845a0'])\n",
    "plt.xlabel('Type of Model', fontsize = 13)\n",
    "plt.ylabel('RMSE', fontsize = 13)\n",
    "plt.title('', fontsize = 15)\n",
    "\n",
    "x_coord = [0, 1, 2, 3, 4]\n",
    "for i in range(len(plot_rmse1.RMSE)):\n",
    "    plt.text(x = x_coord[i], y = plot_rmse1.RMSE[i], s = round(plot_rmse1.RMSE[i], 2), horizontalalignment='center', verticalalignment='bottom', fontsize = 12)\n",
    "\n",
    "plt.ylim(0,10)\n",
    "plt.title('All Model Performance', fontsize = 20)\n",
    "# plt.xticks(label=labels, rotation=0)\n",
    "plt.tight_layout()\n",
    "plt.savefig('All Model Performance', dpi=300)"
   ]
  },
  {
   "cell_type": "code",
   "execution_count": null,
   "metadata": {},
   "outputs": [],
   "source": []
  }
 ],
 "metadata": {
  "kernelspec": {
   "display_name": "Python 3",
   "language": "python",
   "name": "python3"
  },
  "language_info": {
   "codemirror_mode": {
    "name": "ipython",
    "version": 3
   },
   "file_extension": ".py",
   "mimetype": "text/x-python",
   "name": "python",
   "nbconvert_exporter": "python",
   "pygments_lexer": "ipython3",
   "version": "3.6.7"
  }
 },
 "nbformat": 4,
 "nbformat_minor": 2
}
